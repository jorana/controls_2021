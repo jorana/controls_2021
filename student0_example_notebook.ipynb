{
 "cells": [
  {
   "cell_type": "markdown",
   "metadata": {},
   "source": [
    "# Topical Lectures April 2021\n",
    "## Drone control, part 0: an example Jupyter notebook\n",
    "Andreas Freise, Bas Swinkels 13.04.2021\n",
    "\n",
    "\n",
    "All the work in this module will be done inside Jupyter notebooks such as this one. We provide you with several notebooks which contain task descriptions and suggestions. You will then complete the task by working inside the notebook. \n",
    "\n",
    "This is a simple example, to step you through the basics of using a Jupyter notebook. If you are already familar with Jupyter you should skip this notebook. Other students might want to play with this for a bit before starting the real task."
   ]
  },
  {
   "cell_type": "markdown",
   "metadata": {},
   "source": [
    "# 1. Executing Code"
   ]
  },
  {
   "cell_type": "code",
   "execution_count": 1,
   "metadata": {
    "ExecuteTime": {
     "end_time": "2021-04-14T13:09:51.379847Z",
     "start_time": "2021-04-14T13:09:51.374675Z"
    }
   },
   "outputs": [
    {
     "name": "stdout",
     "output_type": "stream",
     "text": [
      "Hello World!!!!!!!!!\n"
     ]
    }
   ],
   "source": [
    "# Press Ctrl + Enter to run a single cell, \n",
    "# or Shift + Enter to run and select the cell below.\n",
    "print('Hello World!!!!!!!!!') "
   ]
  },
  {
   "cell_type": "markdown",
   "metadata": {},
   "source": [
    "### Import statements\n",
    "Installed modules may be imported as usual using import statements. Here we import two modules familiar from Year 1: `numpy` and `matplotlib.pyplot`. Remember that these modules may be accessed from anywhere in the notebook, but only if this cell (or another containing these import statements) is run first:"
   ]
  },
  {
   "cell_type": "code",
   "execution_count": 2,
   "metadata": {
    "ExecuteTime": {
     "end_time": "2021-04-14T13:09:52.955514Z",
     "start_time": "2021-04-14T13:09:52.553342Z"
    }
   },
   "outputs": [],
   "source": [
    "# It is a common convention to use the local \n",
    "# names np and plt for these modules:\n",
    "import numpy as np\n",
    "import matplotlib.pyplot as plt"
   ]
  },
  {
   "cell_type": "markdown",
   "metadata": {},
   "source": [
    "### Syntax and Output\n",
    "Python code in notebooks has exactly the same syntax as it does in Spyder, or any environment for that matter.  \n",
    "Simple assignment won't result in a visible output - for that a function with a return value or a print statement must be executed: "
   ]
  },
  {
   "cell_type": "code",
   "execution_count": 3,
   "metadata": {
    "ExecuteTime": {
     "end_time": "2021-04-14T13:09:53.936041Z",
     "start_time": "2021-04-14T13:09:53.931856Z"
    }
   },
   "outputs": [],
   "source": [
    "# np.arange(0,12) creates an array consisting of the integers from 0 to 12.\n",
    "# We reshape this into a 4x3 array.\n",
    "my_array = np.arange(0,12).reshape(4,3) \n",
    "# Notice that this assignment creates no output"
   ]
  },
  {
   "cell_type": "code",
   "execution_count": 4,
   "metadata": {
    "ExecuteTime": {
     "end_time": "2021-04-14T13:09:54.230503Z",
     "start_time": "2021-04-14T13:09:54.224167Z"
    }
   },
   "outputs": [
    {
     "name": "stdout",
     "output_type": "stream",
     "text": [
      "[[ 0  1  2]\n",
      " [ 3  4  5]\n",
      " [ 6  7  8]\n",
      " [ 9 10 11]]\n"
     ]
    }
   ],
   "source": [
    "# Any output appears directly below the cell's input area\n",
    "print(my_array) "
   ]
  },
  {
   "cell_type": "code",
   "execution_count": 5,
   "metadata": {
    "ExecuteTime": {
     "end_time": "2021-04-14T13:09:55.215368Z",
     "start_time": "2021-04-14T13:09:55.210105Z"
    }
   },
   "outputs": [
    {
     "data": {
      "text/plain": [
       "(10+1j)"
      ]
     },
     "execution_count": 5,
     "metadata": {},
     "output_type": "execute_result"
    }
   ],
   "source": [
    "# The result of the *final* computation or function return \n",
    "# in a cell will also be shown in the output:\n",
    "5 + 10 # the results of this addition will not appear\n",
    "10 + 1j # this result will be shown (j is used to denote the imaginary unit in Python)"
   ]
  },
  {
   "cell_type": "markdown",
   "metadata": {},
   "source": [
    "As an example, here we use a for loop to iterate over the elements of an array of 10 random integers, printing even values if they occur. Inside a notebook, this is easily run multiple times."
   ]
  },
  {
   "cell_type": "code",
   "execution_count": 6,
   "metadata": {
    "ExecuteTime": {
     "end_time": "2021-04-14T13:09:56.269342Z",
     "start_time": "2021-04-14T13:09:56.261047Z"
    }
   },
   "outputs": [
    {
     "name": "stdout",
     "output_type": "stream",
     "text": [
      "60 26 4 68 98 "
     ]
    }
   ],
   "source": [
    "# Generate an array of 10 random integers between 0 and 99 (inclusive)\n",
    "rand_array = np.random.randint(0,100,10) \n",
    "\n",
    "for x in rand_array:\n",
    "    # check the remainder of x/2 is equal to zero\n",
    "    if x % 2 == 0: \n",
    "        # if so print the number\n",
    "        print(x, end=' ') \n",
    "        # end=' ' ensures a space separates successive prints without newlines."
   ]
  },
  {
   "cell_type": "markdown",
   "metadata": {},
   "source": [
    "### Docstrings\n",
    "It is possible to view the documentation for a function by placing the cursor inside the parenthesis and pressing shift and tab together. This key combination works in Jupyter notebooks and most other interactive python interpreters.\n",
    "\n",
    "Note you can only do this once you have imported the function. Try it with the above codeblocks.\n",
    "\n",
    "If you wan't more detailed infomation you can also use:\n",
    "```python\n",
    "help(function)\n",
    "```\n",
    "Try it now:"
   ]
  },
  {
   "cell_type": "code",
   "execution_count": 7,
   "metadata": {
    "ExecuteTime": {
     "end_time": "2021-04-14T13:10:02.017955Z",
     "start_time": "2021-04-14T13:10:02.010602Z"
    }
   },
   "outputs": [
    {
     "name": "stdout",
     "output_type": "stream",
     "text": [
      "Help on built-in function randint:\n",
      "\n",
      "randint(...) method of numpy.random.mtrand.RandomState instance\n",
      "    randint(low, high=None, size=None, dtype=int)\n",
      "    \n",
      "    Return random integers from `low` (inclusive) to `high` (exclusive).\n",
      "    \n",
      "    Return random integers from the \"discrete uniform\" distribution of\n",
      "    the specified dtype in the \"half-open\" interval [`low`, `high`). If\n",
      "    `high` is None (the default), then results are from [0, `low`).\n",
      "    \n",
      "    .. note::\n",
      "        New code should use the ``integers`` method of a ``default_rng()``\n",
      "        instance instead; please see the :ref:`random-quick-start`.\n",
      "    \n",
      "    Parameters\n",
      "    ----------\n",
      "    low : int or array-like of ints\n",
      "        Lowest (signed) integers to be drawn from the distribution (unless\n",
      "        ``high=None``, in which case this parameter is one above the\n",
      "        *highest* such integer).\n",
      "    high : int or array-like of ints, optional\n",
      "        If provided, one above the largest (signed) integer to be drawn\n",
      "        from the distribution (see above for behavior if ``high=None``).\n",
      "        If array-like, must contain integer values\n",
      "    size : int or tuple of ints, optional\n",
      "        Output shape.  If the given shape is, e.g., ``(m, n, k)``, then\n",
      "        ``m * n * k`` samples are drawn.  Default is None, in which case a\n",
      "        single value is returned.\n",
      "    dtype : dtype, optional\n",
      "        Desired dtype of the result. Byteorder must be native.\n",
      "        The default value is int.\n",
      "    \n",
      "        .. versionadded:: 1.11.0\n",
      "    \n",
      "    Returns\n",
      "    -------\n",
      "    out : int or ndarray of ints\n",
      "        `size`-shaped array of random integers from the appropriate\n",
      "        distribution, or a single such random int if `size` not provided.\n",
      "    \n",
      "    See Also\n",
      "    --------\n",
      "    random_integers : similar to `randint`, only for the closed\n",
      "        interval [`low`, `high`], and 1 is the lowest value if `high` is\n",
      "        omitted.\n",
      "    Generator.integers: which should be used for new code.\n",
      "    \n",
      "    Examples\n",
      "    --------\n",
      "    >>> np.random.randint(2, size=10)\n",
      "    array([1, 0, 0, 0, 1, 1, 0, 0, 1, 0]) # random\n",
      "    >>> np.random.randint(1, size=10)\n",
      "    array([0, 0, 0, 0, 0, 0, 0, 0, 0, 0])\n",
      "    \n",
      "    Generate a 2 x 4 array of ints between 0 and 4, inclusive:\n",
      "    \n",
      "    >>> np.random.randint(5, size=(2, 4))\n",
      "    array([[4, 0, 2, 1], # random\n",
      "           [3, 2, 2, 0]])\n",
      "    \n",
      "    Generate a 1 x 3 array with 3 different upper bounds\n",
      "    \n",
      "    >>> np.random.randint(1, [3, 5, 10])\n",
      "    array([2, 2, 9]) # random\n",
      "    \n",
      "    Generate a 1 by 3 array with 3 different lower bounds\n",
      "    \n",
      "    >>> np.random.randint([1, 5, 7], 10)\n",
      "    array([9, 8, 7]) # random\n",
      "    \n",
      "    Generate a 2 by 4 array using broadcasting with dtype of uint8\n",
      "    \n",
      "    >>> np.random.randint([1, 3, 5, 7], [[10], [20]], dtype=np.uint8)\n",
      "    array([[ 8,  6,  9,  7], # random\n",
      "           [ 1, 16,  9, 12]], dtype=uint8)\n",
      "\n"
     ]
    }
   ],
   "source": [
    "help(np.random.randint)"
   ]
  },
  {
   "cell_type": "markdown",
   "metadata": {},
   "source": [
    "### Plotting\n",
    "Plots may be created inline using pyplot as usual:"
   ]
  },
  {
   "cell_type": "code",
   "execution_count": 8,
   "metadata": {
    "ExecuteTime": {
     "end_time": "2021-04-14T13:10:03.383887Z",
     "start_time": "2021-04-14T13:10:03.379634Z"
    }
   },
   "outputs": [],
   "source": [
    "# Generate some sine wave data\n",
    "# np.linspace generates an array of evenly spaced values (100 here)\n",
    "x = np.linspace(0,6*np.pi,100) \n",
    "y = np.sin(x)"
   ]
  },
  {
   "cell_type": "code",
   "execution_count": 9,
   "metadata": {
    "ExecuteTime": {
     "end_time": "2021-04-14T13:10:04.413803Z",
     "start_time": "2021-04-14T13:10:03.650824Z"
    }
   },
   "outputs": [
    {
     "data": {
      "image/png": "[encoded data removed]",
      "text/plain": [
       "<Figure size 720x432 with 1 Axes>"
      ]
     },
     "metadata": {
      "needs_background": "light"
     },
     "output_type": "display_data"
    }
   ],
   "source": [
    "# plot the sine wave\n",
    "fig = plt.figure(figsize=(10,6)) # new figure\n",
    "ax = fig.add_subplot(111) # add a subplot to figure\n",
    "ax.plot(x, y, 'r-') # plot the data onto the figure object\n",
    "\n",
    "ax.set_title('$y = sin(x)$')\n",
    "ax.set_xlabel('$x$') # note dollar signs (LaTeX typesetting)\n",
    "_ = ax.set_ylabel('$y$')\n",
    "\n",
    "# If data is returned and you do not want it, it is common to assign it \n",
    "# to the underscore character, this will also avoid unsightly output \n",
    "# from the last command in a cell"
   ]
  },
  {
   "cell_type": "code",
   "execution_count": 10,
   "metadata": {
    "ExecuteTime": {
     "end_time": "2021-04-14T13:10:04.512797Z",
     "start_time": "2021-04-14T13:10:04.507912Z"
    }
   },
   "outputs": [],
   "source": [
    "# plot not shown until you call show\n",
    "plt.show()"
   ]
  },
  {
   "cell_type": "markdown",
   "metadata": {},
   "source": [
    "#### More Complex Plots\n",
    "The matplotlib library also allows for the use of the `%matplotlib notebook` magic command, which results in all subsequently drawn figures being interactive (use `%matplotlib inline` to revert this).\n",
    "\n",
    "Lets plot a family of polynomials, interactively on the same set of axes."
   ]
  },
  {
   "cell_type": "code",
   "execution_count": 11,
   "metadata": {
    "ExecuteTime": {
     "end_time": "2021-04-14T13:10:06.282581Z",
     "start_time": "2021-04-14T13:10:05.562912Z"
    }
   },
   "outputs": [
    {
     "data": {
      "image/png": "[encoded data removed]",
      "text/plain": [
       "<Figure size 720x432 with 1 Axes>"
      ]
     },
     "metadata": {
      "needs_background": "light"
     },
     "output_type": "display_data"
    }
   ],
   "source": [
    "fig = plt.figure(figsize=(10,6)) \n",
    "ax = fig.add_subplot(111) \n",
    "\n",
    "for i in range(1,7):\n",
    "    x = np.linspace(-1,1,100)\n",
    "    y = np.power(x,i)\n",
    "    ax.plot(x,y,label='$y=x^' + str(i) + '$')\n",
    "    # Here we are using LaTeX to format an equation, this is denoted by the \n",
    "    # dollar signs and explained later.\n",
    "    \n",
    "ax.set_title('Family of First 6 Polynomials')\n",
    "ax.set_xlabel('$x$')\n",
    "ax.set_ylabel('$y$')\n",
    "ax.grid(True, axis='both')\n",
    "ax.legend(ncol=3, fancybox=True)\n",
    "plt.show()"
   ]
  },
  {
   "cell_type": "markdown",
   "metadata": {},
   "source": [
    "# 2. Markdown\n",
    "Text can be added to Jupyter Notebooks by clicking on a cell and selecting 'Markdown' from the drop-down list in the centre of the toolbar.\n",
    "Doubling clicking on a Markdown cell allows you to inspect the plain text.\n",
    "\n",
    "A summary of the use of Markdown in notebooks may be found on [Markdown Cells](http://jupyter-notebook.readthedocs.io/en/latest/examples/Notebook/Working%20With%20Markdown%20Cells.html) page of the Jupyter Notebook documentation."
   ]
  },
  {
   "cell_type": "code",
   "execution_count": 12,
   "metadata": {
    "ExecuteTime": {
     "end_time": "2021-04-14T13:10:06.837181Z",
     "start_time": "2021-04-14T13:10:06.834789Z"
    }
   },
   "outputs": [],
   "source": [
    "#### Designate this cell for Markdown and run it to display this text."
   ]
  },
  {
   "cell_type": "markdown",
   "metadata": {},
   "source": [
    "### Headers\n",
    "You can add a heading by beginning a line with one or more hash characters (#) followed by a space. There are six tiers of headers, according to the number of hashes."
   ]
  },
  {
   "cell_type": "markdown",
   "metadata": {},
   "source": [
    "### Emphasis\n",
    "To produce italics or bold typeface, surround text with *single* or **double** asterisks or underscores. Three such characters for both __bold italics.__"
   ]
  },
  {
   "cell_type": "markdown",
   "metadata": {},
   "source": [
    "### Embedded Code\n",
    "Code may be shown inline using single backticks; `print('Hello World')`.\n",
    "\n",
    "For longer blocks of code, use monospace code blocks. These are designated by triple backticks. To enable syntax highlighting type the programming language (python) after the opening triple backticks:\n",
    "```python\n",
    "def example_function():\n",
    "    \"\"\"Display code for illustrative purposes\"\"\"\n",
    "    pass\n",
    "```\n",
    "\n",
    "Note: If you wish to display characters such as the backtick (\\`), asterisk (\\*) or (\\_), they must be escaped using a backslash (\\\\)."
   ]
  },
  {
   "cell_type": "markdown",
   "metadata": {},
   "source": [
    "### Links\n",
    "You may add hyperlinks inline using `[Link display text](URL \"Tooltip\")`, where `Tooltip` is an optional description displayed when the cursor is hovered over the link. Internal links to any header within the document are also possible with `[Link display text](#Header \"Tooltip\")`, where `Header` is the header you wish to link to. For example, here is a link to the [plotting subsection](#Plotting \"Take me to the plotting subsection\")."
   ]
  },
  {
   "cell_type": "markdown",
   "metadata": {},
   "source": [
    "### Tables\n",
    "Simple tables may be constructed using a mix of pipes and hyphens:\n",
    "\n",
    "|Pupil|Height|Exam Score|\n",
    "|:----|------|:--------:|\n",
    "|Markdown|152|72|\n",
    "|Jupyter|180|93|\n",
    "Notice the colons in the line below the headers. These are optional and specify the column's justification."
   ]
  },
  {
   "cell_type": "markdown",
   "metadata": {},
   "source": [
    "### Lists\n",
    "Use a single asterisk to create a bulleted list: \n",
    "* Unordered items\n",
    "- Use bullets, pluses or minuses\n",
    "\n",
    "Or numbers to created a numbered one: \n",
    "1. First item\n",
    "2. Second item\n",
    "\n",
    "Nested lists are also possible, requiring an indent of exactly four spaces:\n",
    "1. First item:\n",
    "    - Sub item\n",
    "    - Another sub item\n",
    "2. Second item\n",
    "    - Four spaces are required"
   ]
  },
  {
   "cell_type": "markdown",
   "metadata": {},
   "source": [
    "### LaTeX Equations\n",
    "LaTeX is a markup language used commonly by scientists. It is very powerful and enables printing high quality equations and images. You will be expected to use this in your third year. For now, you can use LaTeX syntax in a jupyter notebook to generate equations.\n",
    "\n",
    "Use single dollar signs for inline expressions such as $E=mc^2$ and double dollar signs for displayed expressions:\n",
    "$$\\int_{-\\infty}^{\\infty}e^{-x^2} = \\pi$$\n",
    "\n",
    "You can also use LaTeX in your plots, this line was used earlier:\n",
    "```python\n",
    "label='$y=x^' + str(i) + '$'\n",
    "```\n",
    "Here we generate a string (denated by the single qoutes), then we enter _math mode_ in LaTeX, denoted by the dollar sign, then we can print our equation, close _math mode_ and close the string."
   ]
  },
  {
   "cell_type": "markdown",
   "metadata": {},
   "source": [
    "### Line breaks\n",
    "A single blank line generates a line break in the text.\n",
    "\n",
    "In order to start a new line without a line break, you must end a line with two or more spaces.  \n",
    "(There are two spaces at the end of the line above).\n",
    "\n",
    "Without this\n",
    "    a new line will not be created, \n",
    "    since additional whitespace is ignored \n",
    "    in Markdown (inspect this text).\n",
    "    \n",
    "    \n",
    "    \n",
    "    "
   ]
  },
  {
   "cell_type": "markdown",
   "metadata": {},
   "source": [
    "### Ruling\n",
    "A horizontal ruling may generated by placing 3 or more hyphens, asterisks, or underscores on a single line:\n",
    "___\n",
    "This can be used to create a space for small additional notes to your Markdown cell.\n"
   ]
  }
 ],
 "metadata": {
  "kernelspec": {
   "display_name": "Python 3",
   "language": "python",
   "name": "python3"
  },
  "language_info": {
   "codemirror_mode": {
    "name": "ipython",
    "version": 3
   },
   "file_extension": ".py",
   "mimetype": "text/x-python",
   "name": "python",
   "nbconvert_exporter": "python",
   "pygments_lexer": "ipython3",
   "version": "3.8.5"
  },
  "latex_envs": {
   "LaTeX_envs_menu_present": true,
   "autoclose": false,
   "autocomplete": true,
   "bibliofile": "biblio.bib",
   "cite_by": "apalike",
   "current_citInitial": 1,
   "eqLabelWithNumbers": true,
   "eqNumInitial": 1,
   "hotkeys": {
    "equation": "Ctrl-E",
    "itemize": "Ctrl-I"
   },
   "labels_anchors": false,
   "latex_user_defs": false,
   "report_style_numbering": false,
   "user_envs_cfg": false
  },
  "varInspector": {
   "cols": {
    "lenName": 16,
    "lenType": 16,
    "lenVar": 40
   },
   "kernels_config": {
    "python": {
     "delete_cmd_postfix": "",
     "delete_cmd_prefix": "del ",
     "library": "var_list.py",
     "varRefreshCmd": "print(var_dic_list())"
    },
    "r": {
     "delete_cmd_postfix": ") ",
     "delete_cmd_prefix": "rm(",
     "library": "var_list.r",
     "varRefreshCmd": "cat(var_dic_list()) "
    }
   },
   "types_to_exclude": [
    "module",
    "function",
    "builtin_function_or_method",
    "instance",
    "_Feature"
   ],
   "window_display": false
  }
 },
 "nbformat": 4,
 "nbformat_minor": 2
}
