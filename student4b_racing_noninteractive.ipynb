{
 "cells": [
  {
   "cell_type": "markdown",
   "metadata": {},
   "source": [
    "# Topical Lectures April 2021\n",
    "## Drone control, part 4b: test flight (non-interactive)\n",
    "Andreas Freise, Bas Swinkels 13.04.2021\n",
    "\n",
    "In the 4th and last part of the project we provide two alternative notebooks, one which uses interactive plotting and one which uses non-interactive plotting. If you can we suggest that you use the one with interactive plots (4a) first.\n",
    "\n",
    "In this notebook, we will try to fly our drone, using the controls we developped in the previous notebooks. To make it a bit more fun, we pose the following challenge: fly your drone through a set of predefined markers and report the time. We will compare the best times at the end of the project.\n",
    "\n",
    "This is an alternative verison of the notebook in which we don't use interactive mode but a preprogrammed set of controls to race our drone.\n"
   ]
  },
  {
   "cell_type": "code",
   "execution_count": 1,
   "metadata": {
    "ExecuteTime": {
     "end_time": "2021-04-15T14:41:04.884920Z",
     "start_time": "2021-04-15T14:41:04.772752Z"
    }
   },
   "outputs": [],
   "source": [
    "from  tqdm.notebook import tqdm"
   ]
  },
  {
   "cell_type": "code",
   "execution_count": 2,
   "metadata": {
    "ExecuteTime": {
     "end_time": "2021-04-15T14:41:05.946727Z",
     "start_time": "2021-04-15T14:41:05.017710Z"
    }
   },
   "outputs": [],
   "source": [
    "import numpy as np\n",
    "import matplotlib.pyplot as plt\n",
    "import time\n",
    "import module\n",
    "import warnings\n",
    "warnings.filterwarnings(\"ignore\", category=DeprecationWarning) \n",
    "\n",
    "# inline plots again\n",
    "%matplotlib inline\n",
    "\n",
    "# Don't forget to set the name string to your own name\n",
    "MyName = \"Joran\""
   ]
  },
  {
   "cell_type": "markdown",
   "metadata": {},
   "source": [
    "Again copy the feedback functions from previous notebooks here:"
   ]
  },
  {
   "cell_type": "code",
   "execution_count": 3,
   "metadata": {
    "ExecuteTime": {
     "end_time": "2021-04-15T14:41:06.070523Z",
     "start_time": "2021-04-15T14:41:06.037361Z"
    }
   },
   "outputs": [],
   "source": [
    "# Enter the functions for the drone feedback here\n",
    "# we apply the drone parameters found in the system identification task\n",
    "V_left_offset = -0.011250000000001564\n",
    "V_hover = 0.5056685561853952\n",
    "V_max = 5.130825001742341\n",
    "V_min = -5\n",
    "\n",
    "\n",
    "# This function take voltages for the left and right rotor and applies the previously \n",
    "# measured parameters for corrections such that for V_left-V_right=0 we have a \n",
    "# balanced and hovering drone.\n",
    "# Note that the naive clipping of the feedback signal at V_min and V_max might not\n",
    "# be the best solution for more advanced control loops, but it should work for now.\n",
    "def set_v(drone, _V_left, _V_right):\n",
    "    V_left =  np.clip(V_hover + _V_left + V_left_offset, V_min, V_max)\n",
    "    V_right = np.clip(V_hover + _V_right, V_min, V_max)\n",
    "    drone.set_V(V_left, V_right)\n",
    "def zphi2V(fb_z, fb_phi):\n",
    "    V_left = fb_z + fb_phi\n",
    "    V_right = fb_z - fb_phi\n",
    "    return V_left, V_right\n",
    "def set_v_nohover(drone, _V_left, _V_right):\n",
    "    V_left =  np.clip(_V_left + V_left_offset, V_min, V_max)\n",
    "    V_right = np.clip(_V_right, V_min, V_max)\n",
    "    drone.set_V(V_left, V_right)"
   ]
  },
  {
   "cell_type": "code",
   "execution_count": null,
   "metadata": {
    "ExecuteTime": {
     "end_time": "2021-04-15T13:37:36.893214Z",
     "start_time": "2021-04-15T13:37:36.885828Z"
    }
   },
   "outputs": [],
   "source": []
  },
  {
   "cell_type": "markdown",
   "metadata": {},
   "source": [
    "## Racing your drone\n",
    "\n",
    "Again, to test our new control loops we are going to race our drone through a simple track. The goal is to reach a pre-defined set of targets as quickly as possible. \n",
    "\n",
    "Below we provide some code that allows interacting with the drone similar to notebooks 2 and 3. "
   ]
  },
  {
   "cell_type": "code",
   "execution_count": 8,
   "metadata": {
    "ExecuteTime": {
     "end_time": "2021-04-15T14:34:51.039628Z",
     "start_time": "2021-04-15T14:27:01.214808Z"
    },
    "scrolled": true
   },
   "outputs": [
    {
     "name": "stderr",
     "output_type": "stream",
     "text": [
      "/home/joran/miniconda3/envs/strax/lib/python3.8/site-packages/ipykernel/ipkernel.py:283: DeprecationWarning: `should_run_async` will not call `transform_cell` automatically in the future. Please pass the result to `transformed_cell` argument and any exception that happen during thetransform in `preprocessing_exc_tuple` in IPython 7.17 and above.\n",
      "  and should_run_async(code)\n"
     ]
    },
    {
     "data": {
      "application/vnd.jupyter.widget-view+json": {
       "model_id": "a5286c7645b345a19e3e3316cce69bc9",
       "version_major": 2,
       "version_minor": 0
      },
      "text/plain": [
       "p phi:   0%|          | 0/2 [00:00<?, ?it/s]"
      ]
     },
     "metadata": {},
     "output_type": "display_data"
    },
    {
     "data": {
      "application/vnd.jupyter.widget-view+json": {
       "model_id": "d43c9b53104c4220adfb963008f78664",
       "version_major": 2,
       "version_minor": 0
      },
      "text/plain": [
       "d phi:   0%|          | 0/2 [00:00<?, ?it/s]"
      ]
     },
     "metadata": {},
     "output_type": "display_data"
    },
    {
     "data": {
      "application/vnd.jupyter.widget-view+json": {
       "model_id": "715305921f3949759471c46e6d27c624",
       "version_major": 2,
       "version_minor": 0
      },
      "text/plain": [
       "p y:   0%|          | 0/2 [00:00<?, ?it/s]"
      ]
     },
     "metadata": {},
     "output_type": "display_data"
    },
    {
     "data": {
      "application/vnd.jupyter.widget-view+json": {
       "model_id": "6650c314342a4974b4cb082175e56a11",
       "version_major": 2,
       "version_minor": 0
      },
      "text/plain": [
       "d y:   0%|          | 0/2 [00:00<?, ?it/s]"
      ]
     },
     "metadata": {},
     "output_type": "display_data"
    },
    {
     "data": {
      "application/vnd.jupyter.widget-view+json": {
       "model_id": "5c79cb767ad84400856c1c78c6ca5459",
       "version_major": 2,
       "version_minor": 0
      },
      "text/plain": [
       "d i:   0%|          | 0/3 [00:00<?, ?it/s]"
      ]
     },
     "metadata": {},
     "output_type": "display_data"
    },
    {
     "data": {
      "application/vnd.jupyter.widget-view+json": {
       "model_id": "0a16edea66404cd4b181409732ba2da9",
       "version_major": 2,
       "version_minor": 0
      },
      "text/plain": [
       "p z:   0%|          | 0/3 [00:00<?, ?it/s]"
      ]
     },
     "metadata": {},
     "output_type": "display_data"
    },
    {
     "data": {
      "application/vnd.jupyter.widget-view+json": {
       "model_id": "709006ea8a5745548ce017d11f11924c",
       "version_major": 2,
       "version_minor": 0
      },
      "text/plain": [
       "d z:   0%|          | 0/3 [00:00<?, ?it/s]"
      ]
     },
     "metadata": {},
     "output_type": "display_data"
    },
    {
     "data": {
      "application/vnd.jupyter.widget-view+json": {
       "model_id": "af3a370587a740b08c20911c4b55c190",
       "version_major": 2,
       "version_minor": 0
      },
      "text/plain": [
       "i z:   0%|          | 0/4 [00:00<?, ?it/s]"
      ]
     },
     "metadata": {},
     "output_type": "display_data"
    },
    {
     "name": "stdout",
     "output_type": "stream",
     "text": [
      "-10 2 1.5 1.9 0.1 -4 1.1 -0.1\n"
     ]
    },
    {
     "name": "stderr",
     "output_type": "stream",
     "text": [
      "/mnt/d/Google_Drive/PhD-master/ubuntu-storage/ubuntu-windows/software/controls_2021/module.py:453: DeprecationWarning: `np.int` is a deprecated alias for the builtin `int`. To silence this warning, use `int` by itself. Doing this will not modify any behavior and is safe. When replacing `np.int`, you may wish to use e.g. `np.int64` or `np.int32` to specify the precision. If you wish to review your current use, check the release note link for additional information.\n",
      "Deprecated in NumPy 1.20; for more details and guidance: https://numpy.org/devdocs/release/1.20.0-notes.html#deprecations\n",
      "  my_int = np.vectorize(np.int)\n",
      "/mnt/d/Google_Drive/PhD-master/ubuntu-storage/ubuntu-windows/software/controls_2021/module.py:454: DeprecationWarning: `np.float` is a deprecated alias for the builtin `float`. To silence this warning, use `float` by itself. Doing this will not modify any behavior and is safe. If you specifically wanted the numpy scalar type, use `np.float64` here.\n",
      "Deprecated in NumPy 1.20; for more details and guidance: https://numpy.org/devdocs/release/1.20.0-notes.html#deprecations\n",
      "  my_float = np.vectorize(np.float)\n"
     ]
    },
    {
     "data": {
      "image/png": "[encoded data removed]",
      "text/plain": [
       "<Figure size 360x216 with 1 Axes>"
      ]
     },
     "metadata": {
      "needs_background": "light"
     },
     "output_type": "display_data"
    },
    {
     "name": "stdout",
     "output_type": "stream",
     "text": [
      "Total time: 200.00 out of 200.00 seconds\n",
      "-------------------\n",
      "-10 2 1.5 1.9 0.1 -4 1.1 0\n"
     ]
    },
    {
     "name": "stderr",
     "output_type": "stream",
     "text": [
      "/mnt/d/Google_Drive/PhD-master/ubuntu-storage/ubuntu-windows/software/controls_2021/module.py:453: DeprecationWarning: `np.int` is a deprecated alias for the builtin `int`. To silence this warning, use `int` by itself. Doing this will not modify any behavior and is safe. When replacing `np.int`, you may wish to use e.g. `np.int64` or `np.int32` to specify the precision. If you wish to review your current use, check the release note link for additional information.\n",
      "Deprecated in NumPy 1.20; for more details and guidance: https://numpy.org/devdocs/release/1.20.0-notes.html#deprecations\n",
      "  my_int = np.vectorize(np.int)\n",
      "/mnt/d/Google_Drive/PhD-master/ubuntu-storage/ubuntu-windows/software/controls_2021/module.py:454: DeprecationWarning: `np.float` is a deprecated alias for the builtin `float`. To silence this warning, use `float` by itself. Doing this will not modify any behavior and is safe. If you specifically wanted the numpy scalar type, use `np.float64` here.\n",
      "Deprecated in NumPy 1.20; for more details and guidance: https://numpy.org/devdocs/release/1.20.0-notes.html#deprecations\n",
      "  my_float = np.vectorize(np.float)\n"
     ]
    },
    {
     "data": {
      "image/png": "[encoded data removed]",
      "text/plain": [
       "<Figure size 360x216 with 1 Axes>"
      ]
     },
     "metadata": {
      "needs_background": "light"
     },
     "output_type": "display_data"
    },
    {
     "name": "stdout",
     "output_type": "stream",
     "text": [
      "Total time: 200.00 out of 200.00 seconds\n",
      "-------------------\n",
      "-10 2 1.5 1.9 0.1 -4 1.1 0.1\n"
     ]
    },
    {
     "name": "stderr",
     "output_type": "stream",
     "text": [
      "/mnt/d/Google_Drive/PhD-master/ubuntu-storage/ubuntu-windows/software/controls_2021/module.py:453: DeprecationWarning: `np.int` is a deprecated alias for the builtin `int`. To silence this warning, use `int` by itself. Doing this will not modify any behavior and is safe. When replacing `np.int`, you may wish to use e.g. `np.int64` or `np.int32` to specify the precision. If you wish to review your current use, check the release note link for additional information.\n",
      "Deprecated in NumPy 1.20; for more details and guidance: https://numpy.org/devdocs/release/1.20.0-notes.html#deprecations\n",
      "  my_int = np.vectorize(np.int)\n",
      "/mnt/d/Google_Drive/PhD-master/ubuntu-storage/ubuntu-windows/software/controls_2021/module.py:454: DeprecationWarning: `np.float` is a deprecated alias for the builtin `float`. To silence this warning, use `float` by itself. Doing this will not modify any behavior and is safe. If you specifically wanted the numpy scalar type, use `np.float64` here.\n",
      "Deprecated in NumPy 1.20; for more details and guidance: https://numpy.org/devdocs/release/1.20.0-notes.html#deprecations\n",
      "  my_float = np.vectorize(np.float)\n"
     ]
    },
    {
     "data": {
      "image/png": "[encoded data removed]",
      "text/plain": [
       "<Figure size 360x216 with 1 Axes>"
      ]
     },
     "metadata": {
      "needs_background": "light"
     },
     "output_type": "display_data"
    },
    {
     "name": "stdout",
     "output_type": "stream",
     "text": [
      "Total time: 200.00 out of 200.00 seconds\n",
      "-------------------\n",
      "-10 2 1.5 1.9 0.1 -4 1.1 0.2\n"
     ]
    },
    {
     "name": "stderr",
     "output_type": "stream",
     "text": [
      "/mnt/d/Google_Drive/PhD-master/ubuntu-storage/ubuntu-windows/software/controls_2021/module.py:453: DeprecationWarning: `np.int` is a deprecated alias for the builtin `int`. To silence this warning, use `int` by itself. Doing this will not modify any behavior and is safe. When replacing `np.int`, you may wish to use e.g. `np.int64` or `np.int32` to specify the precision. If you wish to review your current use, check the release note link for additional information.\n",
      "Deprecated in NumPy 1.20; for more details and guidance: https://numpy.org/devdocs/release/1.20.0-notes.html#deprecations\n",
      "  my_int = np.vectorize(np.int)\n",
      "/mnt/d/Google_Drive/PhD-master/ubuntu-storage/ubuntu-windows/software/controls_2021/module.py:454: DeprecationWarning: `np.float` is a deprecated alias for the builtin `float`. To silence this warning, use `float` by itself. Doing this will not modify any behavior and is safe. If you specifically wanted the numpy scalar type, use `np.float64` here.\n",
      "Deprecated in NumPy 1.20; for more details and guidance: https://numpy.org/devdocs/release/1.20.0-notes.html#deprecations\n",
      "  my_float = np.vectorize(np.float)\n"
     ]
    },
    {
     "data": {
      "image/png": "[encoded data removed]",
      "text/plain": [
       "<Figure size 360x216 with 1 Axes>"
      ]
     },
     "metadata": {
      "needs_background": "light"
     },
     "output_type": "display_data"
    },
    {
     "name": "stdout",
     "output_type": "stream",
     "text": [
      "Total time: 200.00 out of 200.00 seconds\n",
      "-------------------\n"
     ]
    },
    {
     "data": {
      "application/vnd.jupyter.widget-view+json": {
       "model_id": "3528e64aa77d402d82c6d819579c27b5",
       "version_major": 2,
       "version_minor": 0
      },
      "text/plain": [
       "i z:   0%|          | 0/4 [00:00<?, ?it/s]"
      ]
     },
     "metadata": {},
     "output_type": "display_data"
    },
    {
     "name": "stdout",
     "output_type": "stream",
     "text": [
      "-10 2 1.5 1.9 0.1 -4 1 -0.1\n"
     ]
    },
    {
     "name": "stderr",
     "output_type": "stream",
     "text": [
      "/mnt/d/Google_Drive/PhD-master/ubuntu-storage/ubuntu-windows/software/controls_2021/module.py:453: DeprecationWarning: `np.int` is a deprecated alias for the builtin `int`. To silence this warning, use `int` by itself. Doing this will not modify any behavior and is safe. When replacing `np.int`, you may wish to use e.g. `np.int64` or `np.int32` to specify the precision. If you wish to review your current use, check the release note link for additional information.\n",
      "Deprecated in NumPy 1.20; for more details and guidance: https://numpy.org/devdocs/release/1.20.0-notes.html#deprecations\n",
      "  my_int = np.vectorize(np.int)\n",
      "/mnt/d/Google_Drive/PhD-master/ubuntu-storage/ubuntu-windows/software/controls_2021/module.py:454: DeprecationWarning: `np.float` is a deprecated alias for the builtin `float`. To silence this warning, use `float` by itself. Doing this will not modify any behavior and is safe. If you specifically wanted the numpy scalar type, use `np.float64` here.\n",
      "Deprecated in NumPy 1.20; for more details and guidance: https://numpy.org/devdocs/release/1.20.0-notes.html#deprecations\n",
      "  my_float = np.vectorize(np.float)\n"
     ]
    },
    {
     "data": {
      "image/png": "[encoded data removed]",
      "text/plain": [
       "<Figure size 360x216 with 1 Axes>"
      ]
     },
     "metadata": {
      "needs_background": "light"
     },
     "output_type": "display_data"
    },
    {
     "name": "stdout",
     "output_type": "stream",
     "text": [
      "Total time: 200.00 out of 200.00 seconds\n",
      "-------------------\n",
      "-10 2 1.5 1.9 0.1 -4 1 0\n"
     ]
    },
    {
     "name": "stderr",
     "output_type": "stream",
     "text": [
      "/mnt/d/Google_Drive/PhD-master/ubuntu-storage/ubuntu-windows/software/controls_2021/module.py:453: DeprecationWarning: `np.int` is a deprecated alias for the builtin `int`. To silence this warning, use `int` by itself. Doing this will not modify any behavior and is safe. When replacing `np.int`, you may wish to use e.g. `np.int64` or `np.int32` to specify the precision. If you wish to review your current use, check the release note link for additional information.\n",
      "Deprecated in NumPy 1.20; for more details and guidance: https://numpy.org/devdocs/release/1.20.0-notes.html#deprecations\n",
      "  my_int = np.vectorize(np.int)\n",
      "/mnt/d/Google_Drive/PhD-master/ubuntu-storage/ubuntu-windows/software/controls_2021/module.py:454: DeprecationWarning: `np.float` is a deprecated alias for the builtin `float`. To silence this warning, use `float` by itself. Doing this will not modify any behavior and is safe. If you specifically wanted the numpy scalar type, use `np.float64` here.\n",
      "Deprecated in NumPy 1.20; for more details and guidance: https://numpy.org/devdocs/release/1.20.0-notes.html#deprecations\n",
      "  my_float = np.vectorize(np.float)\n"
     ]
    },
    {
     "data": {
      "image/png": "[encoded data removed]",
      "text/plain": [
       "<Figure size 360x216 with 1 Axes>"
      ]
     },
     "metadata": {
      "needs_background": "light"
     },
     "output_type": "display_data"
    },
    {
     "name": "stdout",
     "output_type": "stream",
     "text": [
      "Total time: 200.00 out of 200.00 seconds\n",
      "-------------------\n",
      "-10 2 1.5 1.9 0.1 -4 1 0.1\n"
     ]
    },
    {
     "name": "stderr",
     "output_type": "stream",
     "text": [
      "/mnt/d/Google_Drive/PhD-master/ubuntu-storage/ubuntu-windows/software/controls_2021/module.py:453: DeprecationWarning: `np.int` is a deprecated alias for the builtin `int`. To silence this warning, use `int` by itself. Doing this will not modify any behavior and is safe. When replacing `np.int`, you may wish to use e.g. `np.int64` or `np.int32` to specify the precision. If you wish to review your current use, check the release note link for additional information.\n",
      "Deprecated in NumPy 1.20; for more details and guidance: https://numpy.org/devdocs/release/1.20.0-notes.html#deprecations\n",
      "  my_int = np.vectorize(np.int)\n",
      "/mnt/d/Google_Drive/PhD-master/ubuntu-storage/ubuntu-windows/software/controls_2021/module.py:454: DeprecationWarning: `np.float` is a deprecated alias for the builtin `float`. To silence this warning, use `float` by itself. Doing this will not modify any behavior and is safe. If you specifically wanted the numpy scalar type, use `np.float64` here.\n",
      "Deprecated in NumPy 1.20; for more details and guidance: https://numpy.org/devdocs/release/1.20.0-notes.html#deprecations\n",
      "  my_float = np.vectorize(np.float)\n"
     ]
    },
    {
     "data": {
      "image/png": "[encoded data removed]",
      "text/plain": [
       "<Figure size 360x216 with 1 Axes>"
      ]
     },
     "metadata": {
      "needs_background": "light"
     },
     "output_type": "display_data"
    },
    {
     "name": "stdout",
     "output_type": "stream",
     "text": [
      "Total time: 200.00 out of 200.00 seconds\n",
      "-------------------\n",
      "-10 2 1.5 1.9 0.1 -4 1 0.2\n"
     ]
    },
    {
     "name": "stderr",
     "output_type": "stream",
     "text": [
      "/mnt/d/Google_Drive/PhD-master/ubuntu-storage/ubuntu-windows/software/controls_2021/module.py:453: DeprecationWarning: `np.int` is a deprecated alias for the builtin `int`. To silence this warning, use `int` by itself. Doing this will not modify any behavior and is safe. When replacing `np.int`, you may wish to use e.g. `np.int64` or `np.int32` to specify the precision. If you wish to review your current use, check the release note link for additional information.\n",
      "Deprecated in NumPy 1.20; for more details and guidance: https://numpy.org/devdocs/release/1.20.0-notes.html#deprecations\n",
      "  my_int = np.vectorize(np.int)\n",
      "/mnt/d/Google_Drive/PhD-master/ubuntu-storage/ubuntu-windows/software/controls_2021/module.py:454: DeprecationWarning: `np.float` is a deprecated alias for the builtin `float`. To silence this warning, use `float` by itself. Doing this will not modify any behavior and is safe. If you specifically wanted the numpy scalar type, use `np.float64` here.\n",
      "Deprecated in NumPy 1.20; for more details and guidance: https://numpy.org/devdocs/release/1.20.0-notes.html#deprecations\n",
      "  my_float = np.vectorize(np.float)\n"
     ]
    },
    {
     "data": {
      "image/png": "[encoded data removed]",
      "text/plain": [
       "<Figure size 360x216 with 1 Axes>"
      ]
     },
     "metadata": {
      "needs_background": "light"
     },
     "output_type": "display_data"
    },
    {
     "name": "stdout",
     "output_type": "stream",
     "text": [
      "Total time: 200.00 out of 200.00 seconds\n",
      "-------------------\n"
     ]
    },
    {
     "data": {
      "application/vnd.jupyter.widget-view+json": {
       "model_id": "fd424d5141324157aad3fdce1575f590",
       "version_major": 2,
       "version_minor": 0
      },
      "text/plain": [
       "i z:   0%|          | 0/4 [00:00<?, ?it/s]"
      ]
     },
     "metadata": {},
     "output_type": "display_data"
    },
    {
     "name": "stdout",
     "output_type": "stream",
     "text": [
      "-10 2 1.5 1.9 0.1 -4 0.7 -0.1\n"
     ]
    },
    {
     "name": "stderr",
     "output_type": "stream",
     "text": [
      "/mnt/d/Google_Drive/PhD-master/ubuntu-storage/ubuntu-windows/software/controls_2021/module.py:453: DeprecationWarning: `np.int` is a deprecated alias for the builtin `int`. To silence this warning, use `int` by itself. Doing this will not modify any behavior and is safe. When replacing `np.int`, you may wish to use e.g. `np.int64` or `np.int32` to specify the precision. If you wish to review your current use, check the release note link for additional information.\n",
      "Deprecated in NumPy 1.20; for more details and guidance: https://numpy.org/devdocs/release/1.20.0-notes.html#deprecations\n",
      "  my_int = np.vectorize(np.int)\n",
      "/mnt/d/Google_Drive/PhD-master/ubuntu-storage/ubuntu-windows/software/controls_2021/module.py:454: DeprecationWarning: `np.float` is a deprecated alias for the builtin `float`. To silence this warning, use `float` by itself. Doing this will not modify any behavior and is safe. If you specifically wanted the numpy scalar type, use `np.float64` here.\n",
      "Deprecated in NumPy 1.20; for more details and guidance: https://numpy.org/devdocs/release/1.20.0-notes.html#deprecations\n",
      "  my_float = np.vectorize(np.float)\n"
     ]
    },
    {
     "data": {
      "image/png": "[encoded data removed]",
      "text/plain": [
       "<Figure size 360x216 with 1 Axes>"
      ]
     },
     "metadata": {
      "needs_background": "light"
     },
     "output_type": "display_data"
    },
    {
     "name": "stdout",
     "output_type": "stream",
     "text": [
      "Total time: 200.00 out of 200.00 seconds\n",
      "-------------------\n",
      "-10 2 1.5 1.9 0.1 -4 0.7 0\n"
     ]
    },
    {
     "name": "stderr",
     "output_type": "stream",
     "text": [
      "/mnt/d/Google_Drive/PhD-master/ubuntu-storage/ubuntu-windows/software/controls_2021/module.py:453: DeprecationWarning: `np.int` is a deprecated alias for the builtin `int`. To silence this warning, use `int` by itself. Doing this will not modify any behavior and is safe. When replacing `np.int`, you may wish to use e.g. `np.int64` or `np.int32` to specify the precision. If you wish to review your current use, check the release note link for additional information.\n",
      "Deprecated in NumPy 1.20; for more details and guidance: https://numpy.org/devdocs/release/1.20.0-notes.html#deprecations\n",
      "  my_int = np.vectorize(np.int)\n",
      "/mnt/d/Google_Drive/PhD-master/ubuntu-storage/ubuntu-windows/software/controls_2021/module.py:454: DeprecationWarning: `np.float` is a deprecated alias for the builtin `float`. To silence this warning, use `float` by itself. Doing this will not modify any behavior and is safe. If you specifically wanted the numpy scalar type, use `np.float64` here.\n",
      "Deprecated in NumPy 1.20; for more details and guidance: https://numpy.org/devdocs/release/1.20.0-notes.html#deprecations\n",
      "  my_float = np.vectorize(np.float)\n"
     ]
    },
    {
     "data": {
      "image/png": "[encoded data removed]",
      "text/plain": [
       "<Figure size 360x216 with 1 Axes>"
      ]
     },
     "metadata": {
      "needs_background": "light"
     },
     "output_type": "display_data"
    },
    {
     "name": "stdout",
     "output_type": "stream",
     "text": [
      "Total time: 200.00 out of 200.00 seconds\n",
      "-------------------\n",
      "-10 2 1.5 1.9 0.1 -4 0.7 0.1\n"
     ]
    },
    {
     "name": "stderr",
     "output_type": "stream",
     "text": [
      "/mnt/d/Google_Drive/PhD-master/ubuntu-storage/ubuntu-windows/software/controls_2021/module.py:453: DeprecationWarning: `np.int` is a deprecated alias for the builtin `int`. To silence this warning, use `int` by itself. Doing this will not modify any behavior and is safe. When replacing `np.int`, you may wish to use e.g. `np.int64` or `np.int32` to specify the precision. If you wish to review your current use, check the release note link for additional information.\n",
      "Deprecated in NumPy 1.20; for more details and guidance: https://numpy.org/devdocs/release/1.20.0-notes.html#deprecations\n",
      "  my_int = np.vectorize(np.int)\n",
      "/mnt/d/Google_Drive/PhD-master/ubuntu-storage/ubuntu-windows/software/controls_2021/module.py:454: DeprecationWarning: `np.float` is a deprecated alias for the builtin `float`. To silence this warning, use `float` by itself. Doing this will not modify any behavior and is safe. If you specifically wanted the numpy scalar type, use `np.float64` here.\n",
      "Deprecated in NumPy 1.20; for more details and guidance: https://numpy.org/devdocs/release/1.20.0-notes.html#deprecations\n",
      "  my_float = np.vectorize(np.float)\n"
     ]
    },
    {
     "data": {
      "image/png": "[encoded data removed]",
      "text/plain": [
       "<Figure size 360x216 with 1 Axes>"
      ]
     },
     "metadata": {
      "needs_background": "light"
     },
     "output_type": "display_data"
    },
    {
     "name": "stdout",
     "output_type": "stream",
     "text": [
      "Total time: 200.00 out of 200.00 seconds\n",
      "-------------------\n",
      "-10 2 1.5 1.9 0.1 -4 0.7 0.2\n"
     ]
    },
    {
     "name": "stderr",
     "output_type": "stream",
     "text": [
      "/mnt/d/Google_Drive/PhD-master/ubuntu-storage/ubuntu-windows/software/controls_2021/module.py:453: DeprecationWarning: `np.int` is a deprecated alias for the builtin `int`. To silence this warning, use `int` by itself. Doing this will not modify any behavior and is safe. When replacing `np.int`, you may wish to use e.g. `np.int64` or `np.int32` to specify the precision. If you wish to review your current use, check the release note link for additional information.\n",
      "Deprecated in NumPy 1.20; for more details and guidance: https://numpy.org/devdocs/release/1.20.0-notes.html#deprecations\n",
      "  my_int = np.vectorize(np.int)\n",
      "/mnt/d/Google_Drive/PhD-master/ubuntu-storage/ubuntu-windows/software/controls_2021/module.py:454: DeprecationWarning: `np.float` is a deprecated alias for the builtin `float`. To silence this warning, use `float` by itself. Doing this will not modify any behavior and is safe. If you specifically wanted the numpy scalar type, use `np.float64` here.\n",
      "Deprecated in NumPy 1.20; for more details and guidance: https://numpy.org/devdocs/release/1.20.0-notes.html#deprecations\n",
      "  my_float = np.vectorize(np.float)\n"
     ]
    },
    {
     "data": {
      "image/png": "[encoded data removed]",
      "text/plain": [
       "<Figure size 360x216 with 1 Axes>"
      ]
     },
     "metadata": {
      "needs_background": "light"
     },
     "output_type": "display_data"
    },
    {
     "name": "stdout",
     "output_type": "stream",
     "text": [
      "Total time: 200.00 out of 200.00 seconds\n",
      "-------------------\n"
     ]
    },
    {
     "data": {
      "application/vnd.jupyter.widget-view+json": {
       "model_id": "d33b066f71bf4a43bda4efeab796616d",
       "version_major": 2,
       "version_minor": 0
      },
      "text/plain": [
       "d z:   0%|          | 0/3 [00:00<?, ?it/s]"
      ]
     },
     "metadata": {},
     "output_type": "display_data"
    },
    {
     "data": {
      "application/vnd.jupyter.widget-view+json": {
       "model_id": "e559a9f10a2143e38afaf20fc51355f1",
       "version_major": 2,
       "version_minor": 0
      },
      "text/plain": [
       "i z:   0%|          | 0/4 [00:00<?, ?it/s]"
      ]
     },
     "metadata": {},
     "output_type": "display_data"
    },
    {
     "name": "stdout",
     "output_type": "stream",
     "text": [
      "-10 2 1.5 1.9 0.1 -2 1.1 -0.1\n"
     ]
    },
    {
     "name": "stderr",
     "output_type": "stream",
     "text": [
      "/mnt/d/Google_Drive/PhD-master/ubuntu-storage/ubuntu-windows/software/controls_2021/module.py:453: DeprecationWarning: `np.int` is a deprecated alias for the builtin `int`. To silence this warning, use `int` by itself. Doing this will not modify any behavior and is safe. When replacing `np.int`, you may wish to use e.g. `np.int64` or `np.int32` to specify the precision. If you wish to review your current use, check the release note link for additional information.\n",
      "Deprecated in NumPy 1.20; for more details and guidance: https://numpy.org/devdocs/release/1.20.0-notes.html#deprecations\n",
      "  my_int = np.vectorize(np.int)\n",
      "/mnt/d/Google_Drive/PhD-master/ubuntu-storage/ubuntu-windows/software/controls_2021/module.py:454: DeprecationWarning: `np.float` is a deprecated alias for the builtin `float`. To silence this warning, use `float` by itself. Doing this will not modify any behavior and is safe. If you specifically wanted the numpy scalar type, use `np.float64` here.\n",
      "Deprecated in NumPy 1.20; for more details and guidance: https://numpy.org/devdocs/release/1.20.0-notes.html#deprecations\n",
      "  my_float = np.vectorize(np.float)\n"
     ]
    },
    {
     "data": {
      "image/png": "[encoded data removed]",
      "text/plain": [
       "<Figure size 360x216 with 1 Axes>"
      ]
     },
     "metadata": {
      "needs_background": "light"
     },
     "output_type": "display_data"
    },
    {
     "name": "stdout",
     "output_type": "stream",
     "text": [
      "Total time: 200.00 out of 200.00 seconds\n",
      "-------------------\n",
      "-10 2 1.5 1.9 0.1 -2 1.1 0\n"
     ]
    },
    {
     "name": "stderr",
     "output_type": "stream",
     "text": [
      "/mnt/d/Google_Drive/PhD-master/ubuntu-storage/ubuntu-windows/software/controls_2021/module.py:453: DeprecationWarning: `np.int` is a deprecated alias for the builtin `int`. To silence this warning, use `int` by itself. Doing this will not modify any behavior and is safe. When replacing `np.int`, you may wish to use e.g. `np.int64` or `np.int32` to specify the precision. If you wish to review your current use, check the release note link for additional information.\n",
      "Deprecated in NumPy 1.20; for more details and guidance: https://numpy.org/devdocs/release/1.20.0-notes.html#deprecations\n",
      "  my_int = np.vectorize(np.int)\n",
      "/mnt/d/Google_Drive/PhD-master/ubuntu-storage/ubuntu-windows/software/controls_2021/module.py:454: DeprecationWarning: `np.float` is a deprecated alias for the builtin `float`. To silence this warning, use `float` by itself. Doing this will not modify any behavior and is safe. If you specifically wanted the numpy scalar type, use `np.float64` here.\n",
      "Deprecated in NumPy 1.20; for more details and guidance: https://numpy.org/devdocs/release/1.20.0-notes.html#deprecations\n",
      "  my_float = np.vectorize(np.float)\n"
     ]
    },
    {
     "data": {
      "image/png": "[encoded data removed]",
      "text/plain": [
       "<Figure size 360x216 with 1 Axes>"
      ]
     },
     "metadata": {
      "needs_background": "light"
     },
     "output_type": "display_data"
    },
    {
     "name": "stdout",
     "output_type": "stream",
     "text": [
      "Total time: 200.00 out of 200.00 seconds\n",
      "-------------------\n",
      "-10 2 1.5 1.9 0.1 -2 1.1 0.1\n"
     ]
    },
    {
     "name": "stderr",
     "output_type": "stream",
     "text": [
      "/mnt/d/Google_Drive/PhD-master/ubuntu-storage/ubuntu-windows/software/controls_2021/module.py:453: DeprecationWarning: `np.int` is a deprecated alias for the builtin `int`. To silence this warning, use `int` by itself. Doing this will not modify any behavior and is safe. When replacing `np.int`, you may wish to use e.g. `np.int64` or `np.int32` to specify the precision. If you wish to review your current use, check the release note link for additional information.\n",
      "Deprecated in NumPy 1.20; for more details and guidance: https://numpy.org/devdocs/release/1.20.0-notes.html#deprecations\n",
      "  my_int = np.vectorize(np.int)\n",
      "/mnt/d/Google_Drive/PhD-master/ubuntu-storage/ubuntu-windows/software/controls_2021/module.py:454: DeprecationWarning: `np.float` is a deprecated alias for the builtin `float`. To silence this warning, use `float` by itself. Doing this will not modify any behavior and is safe. If you specifically wanted the numpy scalar type, use `np.float64` here.\n",
      "Deprecated in NumPy 1.20; for more details and guidance: https://numpy.org/devdocs/release/1.20.0-notes.html#deprecations\n",
      "  my_float = np.vectorize(np.float)\n"
     ]
    },
    {
     "data": {
      "image/png": "[encoded data removed]",
      "text/plain": [
       "<Figure size 360x216 with 1 Axes>"
      ]
     },
     "metadata": {
      "needs_background": "light"
     },
     "output_type": "display_data"
    },
    {
     "name": "stdout",
     "output_type": "stream",
     "text": [
      "Total time: 200.00 out of 200.00 seconds\n",
      "-------------------\n",
      "-10 2 1.5 1.9 0.1 -2 1.1 0.2\n"
     ]
    },
    {
     "name": "stderr",
     "output_type": "stream",
     "text": [
      "/mnt/d/Google_Drive/PhD-master/ubuntu-storage/ubuntu-windows/software/controls_2021/module.py:453: DeprecationWarning: `np.int` is a deprecated alias for the builtin `int`. To silence this warning, use `int` by itself. Doing this will not modify any behavior and is safe. When replacing `np.int`, you may wish to use e.g. `np.int64` or `np.int32` to specify the precision. If you wish to review your current use, check the release note link for additional information.\n",
      "Deprecated in NumPy 1.20; for more details and guidance: https://numpy.org/devdocs/release/1.20.0-notes.html#deprecations\n",
      "  my_int = np.vectorize(np.int)\n",
      "/mnt/d/Google_Drive/PhD-master/ubuntu-storage/ubuntu-windows/software/controls_2021/module.py:454: DeprecationWarning: `np.float` is a deprecated alias for the builtin `float`. To silence this warning, use `float` by itself. Doing this will not modify any behavior and is safe. If you specifically wanted the numpy scalar type, use `np.float64` here.\n",
      "Deprecated in NumPy 1.20; for more details and guidance: https://numpy.org/devdocs/release/1.20.0-notes.html#deprecations\n",
      "  my_float = np.vectorize(np.float)\n"
     ]
    },
    {
     "data": {
      "image/png": "[encoded data removed]",
      "text/plain": [
       "<Figure size 360x216 with 1 Axes>"
      ]
     },
     "metadata": {
      "needs_background": "light"
     },
     "output_type": "display_data"
    },
    {
     "name": "stdout",
     "output_type": "stream",
     "text": [
      "Total time: 200.00 out of 200.00 seconds\n",
      "-------------------\n"
     ]
    },
    {
     "data": {
      "application/vnd.jupyter.widget-view+json": {
       "model_id": "c542c2c8efb341fca14f51c78b53b332",
       "version_major": 2,
       "version_minor": 0
      },
      "text/plain": [
       "i z:   0%|          | 0/4 [00:00<?, ?it/s]"
      ]
     },
     "metadata": {},
     "output_type": "display_data"
    },
    {
     "name": "stdout",
     "output_type": "stream",
     "text": [
      "-10 2 1.5 1.9 0.1 -2 1 -0.1\n"
     ]
    },
    {
     "name": "stderr",
     "output_type": "stream",
     "text": [
      "/mnt/d/Google_Drive/PhD-master/ubuntu-storage/ubuntu-windows/software/controls_2021/module.py:453: DeprecationWarning: `np.int` is a deprecated alias for the builtin `int`. To silence this warning, use `int` by itself. Doing this will not modify any behavior and is safe. When replacing `np.int`, you may wish to use e.g. `np.int64` or `np.int32` to specify the precision. If you wish to review your current use, check the release note link for additional information.\n",
      "Deprecated in NumPy 1.20; for more details and guidance: https://numpy.org/devdocs/release/1.20.0-notes.html#deprecations\n",
      "  my_int = np.vectorize(np.int)\n",
      "/mnt/d/Google_Drive/PhD-master/ubuntu-storage/ubuntu-windows/software/controls_2021/module.py:454: DeprecationWarning: `np.float` is a deprecated alias for the builtin `float`. To silence this warning, use `float` by itself. Doing this will not modify any behavior and is safe. If you specifically wanted the numpy scalar type, use `np.float64` here.\n",
      "Deprecated in NumPy 1.20; for more details and guidance: https://numpy.org/devdocs/release/1.20.0-notes.html#deprecations\n",
      "  my_float = np.vectorize(np.float)\n"
     ]
    },
    {
     "data": {
      "image/png": "[encoded data removed]",
      "text/plain": [
       "<Figure size 360x216 with 1 Axes>"
      ]
     },
     "metadata": {
      "needs_background": "light"
     },
     "output_type": "display_data"
    },
    {
     "name": "stdout",
     "output_type": "stream",
     "text": [
      "Total time: 200.00 out of 200.00 seconds\n",
      "-------------------\n",
      "-10 2 1.5 1.9 0.1 -2 1 0\n"
     ]
    },
    {
     "name": "stderr",
     "output_type": "stream",
     "text": [
      "/mnt/d/Google_Drive/PhD-master/ubuntu-storage/ubuntu-windows/software/controls_2021/module.py:453: DeprecationWarning: `np.int` is a deprecated alias for the builtin `int`. To silence this warning, use `int` by itself. Doing this will not modify any behavior and is safe. When replacing `np.int`, you may wish to use e.g. `np.int64` or `np.int32` to specify the precision. If you wish to review your current use, check the release note link for additional information.\n",
      "Deprecated in NumPy 1.20; for more details and guidance: https://numpy.org/devdocs/release/1.20.0-notes.html#deprecations\n",
      "  my_int = np.vectorize(np.int)\n",
      "/mnt/d/Google_Drive/PhD-master/ubuntu-storage/ubuntu-windows/software/controls_2021/module.py:454: DeprecationWarning: `np.float` is a deprecated alias for the builtin `float`. To silence this warning, use `float` by itself. Doing this will not modify any behavior and is safe. If you specifically wanted the numpy scalar type, use `np.float64` here.\n",
      "Deprecated in NumPy 1.20; for more details and guidance: https://numpy.org/devdocs/release/1.20.0-notes.html#deprecations\n",
      "  my_float = np.vectorize(np.float)\n"
     ]
    },
    {
     "data": {
      "image/png": "[encoded data removed]",
      "text/plain": [
       "<Figure size 360x216 with 1 Axes>"
      ]
     },
     "metadata": {
      "needs_background": "light"
     },
     "output_type": "display_data"
    },
    {
     "name": "stdout",
     "output_type": "stream",
     "text": [
      "Total time: 200.00 out of 200.00 seconds\n",
      "-------------------\n",
      "-10 2 1.5 1.9 0.1 -2 1 0.1\n"
     ]
    },
    {
     "name": "stderr",
     "output_type": "stream",
     "text": [
      "/mnt/d/Google_Drive/PhD-master/ubuntu-storage/ubuntu-windows/software/controls_2021/module.py:453: DeprecationWarning: `np.int` is a deprecated alias for the builtin `int`. To silence this warning, use `int` by itself. Doing this will not modify any behavior and is safe. When replacing `np.int`, you may wish to use e.g. `np.int64` or `np.int32` to specify the precision. If you wish to review your current use, check the release note link for additional information.\n",
      "Deprecated in NumPy 1.20; for more details and guidance: https://numpy.org/devdocs/release/1.20.0-notes.html#deprecations\n",
      "  my_int = np.vectorize(np.int)\n",
      "/mnt/d/Google_Drive/PhD-master/ubuntu-storage/ubuntu-windows/software/controls_2021/module.py:454: DeprecationWarning: `np.float` is a deprecated alias for the builtin `float`. To silence this warning, use `float` by itself. Doing this will not modify any behavior and is safe. If you specifically wanted the numpy scalar type, use `np.float64` here.\n",
      "Deprecated in NumPy 1.20; for more details and guidance: https://numpy.org/devdocs/release/1.20.0-notes.html#deprecations\n",
      "  my_float = np.vectorize(np.float)\n"
     ]
    },
    {
     "data": {
      "image/png": "[encoded data removed]",
      "text/plain": [
       "<Figure size 360x216 with 1 Axes>"
      ]
     },
     "metadata": {
      "needs_background": "light"
     },
     "output_type": "display_data"
    },
    {
     "name": "stdout",
     "output_type": "stream",
     "text": [
      "Total time: 200.00 out of 200.00 seconds\n",
      "-------------------\n",
      "-10 2 1.5 1.9 0.1 -2 1 0.2\n"
     ]
    },
    {
     "name": "stderr",
     "output_type": "stream",
     "text": [
      "/mnt/d/Google_Drive/PhD-master/ubuntu-storage/ubuntu-windows/software/controls_2021/module.py:453: DeprecationWarning: `np.int` is a deprecated alias for the builtin `int`. To silence this warning, use `int` by itself. Doing this will not modify any behavior and is safe. When replacing `np.int`, you may wish to use e.g. `np.int64` or `np.int32` to specify the precision. If you wish to review your current use, check the release note link for additional information.\n",
      "Deprecated in NumPy 1.20; for more details and guidance: https://numpy.org/devdocs/release/1.20.0-notes.html#deprecations\n",
      "  my_int = np.vectorize(np.int)\n",
      "/mnt/d/Google_Drive/PhD-master/ubuntu-storage/ubuntu-windows/software/controls_2021/module.py:454: DeprecationWarning: `np.float` is a deprecated alias for the builtin `float`. To silence this warning, use `float` by itself. Doing this will not modify any behavior and is safe. If you specifically wanted the numpy scalar type, use `np.float64` here.\n",
      "Deprecated in NumPy 1.20; for more details and guidance: https://numpy.org/devdocs/release/1.20.0-notes.html#deprecations\n",
      "  my_float = np.vectorize(np.float)\n"
     ]
    },
    {
     "data": {
      "image/png": "[encoded data removed]",
      "text/plain": [
       "<Figure size 360x216 with 1 Axes>"
      ]
     },
     "metadata": {
      "needs_background": "light"
     },
     "output_type": "display_data"
    },
    {
     "name": "stdout",
     "output_type": "stream",
     "text": [
      "Total time: 200.00 out of 200.00 seconds\n",
      "-------------------\n"
     ]
    },
    {
     "data": {
      "application/vnd.jupyter.widget-view+json": {
       "model_id": "03d03df07ebb47d6bb36971f45729604",
       "version_major": 2,
       "version_minor": 0
      },
      "text/plain": [
       "i z:   0%|          | 0/4 [00:00<?, ?it/s]"
      ]
     },
     "metadata": {},
     "output_type": "display_data"
    },
    {
     "name": "stdout",
     "output_type": "stream",
     "text": [
      "-10 2 1.5 1.9 0.1 -2 0.7 -0.1\n"
     ]
    },
    {
     "name": "stderr",
     "output_type": "stream",
     "text": [
      "/mnt/d/Google_Drive/PhD-master/ubuntu-storage/ubuntu-windows/software/controls_2021/module.py:453: DeprecationWarning: `np.int` is a deprecated alias for the builtin `int`. To silence this warning, use `int` by itself. Doing this will not modify any behavior and is safe. When replacing `np.int`, you may wish to use e.g. `np.int64` or `np.int32` to specify the precision. If you wish to review your current use, check the release note link for additional information.\n",
      "Deprecated in NumPy 1.20; for more details and guidance: https://numpy.org/devdocs/release/1.20.0-notes.html#deprecations\n",
      "  my_int = np.vectorize(np.int)\n",
      "/mnt/d/Google_Drive/PhD-master/ubuntu-storage/ubuntu-windows/software/controls_2021/module.py:454: DeprecationWarning: `np.float` is a deprecated alias for the builtin `float`. To silence this warning, use `float` by itself. Doing this will not modify any behavior and is safe. If you specifically wanted the numpy scalar type, use `np.float64` here.\n",
      "Deprecated in NumPy 1.20; for more details and guidance: https://numpy.org/devdocs/release/1.20.0-notes.html#deprecations\n",
      "  my_float = np.vectorize(np.float)\n"
     ]
    },
    {
     "data": {
      "image/png": "[encoded data removed]",
      "text/plain": [
       "<Figure size 360x216 with 1 Axes>"
      ]
     },
     "metadata": {
      "needs_background": "light"
     },
     "output_type": "display_data"
    },
    {
     "name": "stdout",
     "output_type": "stream",
     "text": [
      "Total time: 200.00 out of 200.00 seconds\n",
      "-------------------\n",
      "-10 2 1.5 1.9 0.1 -2 0.7 0\n"
     ]
    },
    {
     "name": "stderr",
     "output_type": "stream",
     "text": [
      "/mnt/d/Google_Drive/PhD-master/ubuntu-storage/ubuntu-windows/software/controls_2021/module.py:453: DeprecationWarning: `np.int` is a deprecated alias for the builtin `int`. To silence this warning, use `int` by itself. Doing this will not modify any behavior and is safe. When replacing `np.int`, you may wish to use e.g. `np.int64` or `np.int32` to specify the precision. If you wish to review your current use, check the release note link for additional information.\n",
      "Deprecated in NumPy 1.20; for more details and guidance: https://numpy.org/devdocs/release/1.20.0-notes.html#deprecations\n",
      "  my_int = np.vectorize(np.int)\n",
      "/mnt/d/Google_Drive/PhD-master/ubuntu-storage/ubuntu-windows/software/controls_2021/module.py:454: DeprecationWarning: `np.float` is a deprecated alias for the builtin `float`. To silence this warning, use `float` by itself. Doing this will not modify any behavior and is safe. If you specifically wanted the numpy scalar type, use `np.float64` here.\n",
      "Deprecated in NumPy 1.20; for more details and guidance: https://numpy.org/devdocs/release/1.20.0-notes.html#deprecations\n",
      "  my_float = np.vectorize(np.float)\n"
     ]
    },
    {
     "data": {
      "image/png": "[encoded data removed]",
      "text/plain": [
       "<Figure size 360x216 with 1 Axes>"
      ]
     },
     "metadata": {
      "needs_background": "light"
     },
     "output_type": "display_data"
    },
    {
     "name": "stdout",
     "output_type": "stream",
     "text": [
      "Total time: 200.00 out of 200.00 seconds\n",
      "-------------------\n",
      "-10 2 1.5 1.9 0.1 -2 0.7 0.1\n"
     ]
    },
    {
     "name": "stderr",
     "output_type": "stream",
     "text": [
      "/mnt/d/Google_Drive/PhD-master/ubuntu-storage/ubuntu-windows/software/controls_2021/module.py:453: DeprecationWarning: `np.int` is a deprecated alias for the builtin `int`. To silence this warning, use `int` by itself. Doing this will not modify any behavior and is safe. When replacing `np.int`, you may wish to use e.g. `np.int64` or `np.int32` to specify the precision. If you wish to review your current use, check the release note link for additional information.\n",
      "Deprecated in NumPy 1.20; for more details and guidance: https://numpy.org/devdocs/release/1.20.0-notes.html#deprecations\n",
      "  my_int = np.vectorize(np.int)\n",
      "/mnt/d/Google_Drive/PhD-master/ubuntu-storage/ubuntu-windows/software/controls_2021/module.py:454: DeprecationWarning: `np.float` is a deprecated alias for the builtin `float`. To silence this warning, use `float` by itself. Doing this will not modify any behavior and is safe. If you specifically wanted the numpy scalar type, use `np.float64` here.\n",
      "Deprecated in NumPy 1.20; for more details and guidance: https://numpy.org/devdocs/release/1.20.0-notes.html#deprecations\n",
      "  my_float = np.vectorize(np.float)\n"
     ]
    },
    {
     "data": {
      "image/png": "[encoded data removed]",
      "text/plain": [
       "<Figure size 360x216 with 1 Axes>"
      ]
     },
     "metadata": {
      "needs_background": "light"
     },
     "output_type": "display_data"
    },
    {
     "name": "stdout",
     "output_type": "stream",
     "text": [
      "Total time: 200.00 out of 200.00 seconds\n",
      "-------------------\n",
      "-10 2 1.5 1.9 0.1 -2 0.7 0.2\n"
     ]
    },
    {
     "name": "stderr",
     "output_type": "stream",
     "text": [
      "/mnt/d/Google_Drive/PhD-master/ubuntu-storage/ubuntu-windows/software/controls_2021/module.py:453: DeprecationWarning: `np.int` is a deprecated alias for the builtin `int`. To silence this warning, use `int` by itself. Doing this will not modify any behavior and is safe. When replacing `np.int`, you may wish to use e.g. `np.int64` or `np.int32` to specify the precision. If you wish to review your current use, check the release note link for additional information.\n",
      "Deprecated in NumPy 1.20; for more details and guidance: https://numpy.org/devdocs/release/1.20.0-notes.html#deprecations\n",
      "  my_int = np.vectorize(np.int)\n",
      "/mnt/d/Google_Drive/PhD-master/ubuntu-storage/ubuntu-windows/software/controls_2021/module.py:454: DeprecationWarning: `np.float` is a deprecated alias for the builtin `float`. To silence this warning, use `float` by itself. Doing this will not modify any behavior and is safe. If you specifically wanted the numpy scalar type, use `np.float64` here.\n",
      "Deprecated in NumPy 1.20; for more details and guidance: https://numpy.org/devdocs/release/1.20.0-notes.html#deprecations\n",
      "  my_float = np.vectorize(np.float)\n"
     ]
    },
    {
     "data": {
      "image/png": "[encoded data removed]",
      "text/plain": [
       "<Figure size 360x216 with 1 Axes>"
      ]
     },
     "metadata": {
      "needs_background": "light"
     },
     "output_type": "display_data"
    },
    {
     "name": "stdout",
     "output_type": "stream",
     "text": [
      "Total time: 200.00 out of 200.00 seconds\n",
      "-------------------\n"
     ]
    },
    {
     "data": {
      "application/vnd.jupyter.widget-view+json": {
       "model_id": "e94c057d06c54d70ba9a8e4ceb41f052",
       "version_major": 2,
       "version_minor": 0
      },
      "text/plain": [
       "d z:   0%|          | 0/3 [00:00<?, ?it/s]"
      ]
     },
     "metadata": {},
     "output_type": "display_data"
    },
    {
     "data": {
      "application/vnd.jupyter.widget-view+json": {
       "model_id": "e396b917ef784956b52dcf189983a09c",
       "version_major": 2,
       "version_minor": 0
      },
      "text/plain": [
       "i z:   0%|          | 0/4 [00:00<?, ?it/s]"
      ]
     },
     "metadata": {},
     "output_type": "display_data"
    },
    {
     "name": "stdout",
     "output_type": "stream",
     "text": [
      "-10 2 1.5 1.9 0.1 -0.5 1.1 -0.1\n"
     ]
    },
    {
     "name": "stderr",
     "output_type": "stream",
     "text": [
      "/mnt/d/Google_Drive/PhD-master/ubuntu-storage/ubuntu-windows/software/controls_2021/module.py:453: DeprecationWarning: `np.int` is a deprecated alias for the builtin `int`. To silence this warning, use `int` by itself. Doing this will not modify any behavior and is safe. When replacing `np.int`, you may wish to use e.g. `np.int64` or `np.int32` to specify the precision. If you wish to review your current use, check the release note link for additional information.\n",
      "Deprecated in NumPy 1.20; for more details and guidance: https://numpy.org/devdocs/release/1.20.0-notes.html#deprecations\n",
      "  my_int = np.vectorize(np.int)\n",
      "/mnt/d/Google_Drive/PhD-master/ubuntu-storage/ubuntu-windows/software/controls_2021/module.py:454: DeprecationWarning: `np.float` is a deprecated alias for the builtin `float`. To silence this warning, use `float` by itself. Doing this will not modify any behavior and is safe. If you specifically wanted the numpy scalar type, use `np.float64` here.\n",
      "Deprecated in NumPy 1.20; for more details and guidance: https://numpy.org/devdocs/release/1.20.0-notes.html#deprecations\n",
      "  my_float = np.vectorize(np.float)\n"
     ]
    },
    {
     "data": {
      "image/png": "[encoded data removed]",
      "text/plain": [
       "<Figure size 360x216 with 1 Axes>"
      ]
     },
     "metadata": {
      "needs_background": "light"
     },
     "output_type": "display_data"
    },
    {
     "name": "stdout",
     "output_type": "stream",
     "text": [
      "Total time: 200.00 out of 200.00 seconds\n",
      "-------------------\n",
      "-10 2 1.5 1.9 0.1 -0.5 1.1 0\n"
     ]
    },
    {
     "name": "stderr",
     "output_type": "stream",
     "text": [
      "/mnt/d/Google_Drive/PhD-master/ubuntu-storage/ubuntu-windows/software/controls_2021/module.py:453: DeprecationWarning: `np.int` is a deprecated alias for the builtin `int`. To silence this warning, use `int` by itself. Doing this will not modify any behavior and is safe. When replacing `np.int`, you may wish to use e.g. `np.int64` or `np.int32` to specify the precision. If you wish to review your current use, check the release note link for additional information.\n",
      "Deprecated in NumPy 1.20; for more details and guidance: https://numpy.org/devdocs/release/1.20.0-notes.html#deprecations\n",
      "  my_int = np.vectorize(np.int)\n",
      "/mnt/d/Google_Drive/PhD-master/ubuntu-storage/ubuntu-windows/software/controls_2021/module.py:454: DeprecationWarning: `np.float` is a deprecated alias for the builtin `float`. To silence this warning, use `float` by itself. Doing this will not modify any behavior and is safe. If you specifically wanted the numpy scalar type, use `np.float64` here.\n",
      "Deprecated in NumPy 1.20; for more details and guidance: https://numpy.org/devdocs/release/1.20.0-notes.html#deprecations\n",
      "  my_float = np.vectorize(np.float)\n"
     ]
    },
    {
     "data": {
      "image/png": "[encoded data removed]",
      "text/plain": [
       "<Figure size 360x216 with 1 Axes>"
      ]
     },
     "metadata": {
      "needs_background": "light"
     },
     "output_type": "display_data"
    },
    {
     "name": "stdout",
     "output_type": "stream",
     "text": [
      "Total time: 200.00 out of 200.00 seconds\n",
      "-------------------\n",
      "-10 2 1.5 1.9 0.1 -0.5 1.1 0.1\n"
     ]
    },
    {
     "name": "stderr",
     "output_type": "stream",
     "text": [
      "/mnt/d/Google_Drive/PhD-master/ubuntu-storage/ubuntu-windows/software/controls_2021/module.py:453: DeprecationWarning: `np.int` is a deprecated alias for the builtin `int`. To silence this warning, use `int` by itself. Doing this will not modify any behavior and is safe. When replacing `np.int`, you may wish to use e.g. `np.int64` or `np.int32` to specify the precision. If you wish to review your current use, check the release note link for additional information.\n",
      "Deprecated in NumPy 1.20; for more details and guidance: https://numpy.org/devdocs/release/1.20.0-notes.html#deprecations\n",
      "  my_int = np.vectorize(np.int)\n",
      "/mnt/d/Google_Drive/PhD-master/ubuntu-storage/ubuntu-windows/software/controls_2021/module.py:454: DeprecationWarning: `np.float` is a deprecated alias for the builtin `float`. To silence this warning, use `float` by itself. Doing this will not modify any behavior and is safe. If you specifically wanted the numpy scalar type, use `np.float64` here.\n",
      "Deprecated in NumPy 1.20; for more details and guidance: https://numpy.org/devdocs/release/1.20.0-notes.html#deprecations\n",
      "  my_float = np.vectorize(np.float)\n"
     ]
    },
    {
     "data": {
      "image/png": "[encoded data removed]",
      "text/plain": [
       "<Figure size 360x216 with 1 Axes>"
      ]
     },
     "metadata": {
      "needs_background": "light"
     },
     "output_type": "display_data"
    },
    {
     "name": "stdout",
     "output_type": "stream",
     "text": [
      "Total time: 200.00 out of 200.00 seconds\n",
      "-------------------\n",
      "-10 2 1.5 1.9 0.1 -0.5 1.1 0.2\n"
     ]
    },
    {
     "name": "stderr",
     "output_type": "stream",
     "text": [
      "/mnt/d/Google_Drive/PhD-master/ubuntu-storage/ubuntu-windows/software/controls_2021/module.py:453: DeprecationWarning: `np.int` is a deprecated alias for the builtin `int`. To silence this warning, use `int` by itself. Doing this will not modify any behavior and is safe. When replacing `np.int`, you may wish to use e.g. `np.int64` or `np.int32` to specify the precision. If you wish to review your current use, check the release note link for additional information.\n",
      "Deprecated in NumPy 1.20; for more details and guidance: https://numpy.org/devdocs/release/1.20.0-notes.html#deprecations\n",
      "  my_int = np.vectorize(np.int)\n",
      "/mnt/d/Google_Drive/PhD-master/ubuntu-storage/ubuntu-windows/software/controls_2021/module.py:454: DeprecationWarning: `np.float` is a deprecated alias for the builtin `float`. To silence this warning, use `float` by itself. Doing this will not modify any behavior and is safe. If you specifically wanted the numpy scalar type, use `np.float64` here.\n",
      "Deprecated in NumPy 1.20; for more details and guidance: https://numpy.org/devdocs/release/1.20.0-notes.html#deprecations\n",
      "  my_float = np.vectorize(np.float)\n"
     ]
    },
    {
     "data": {
      "image/png": "[encoded data removed]",
      "text/plain": [
       "<Figure size 360x216 with 1 Axes>"
      ]
     },
     "metadata": {
      "needs_background": "light"
     },
     "output_type": "display_data"
    },
    {
     "name": "stdout",
     "output_type": "stream",
     "text": [
      "Total time: 200.00 out of 200.00 seconds\n",
      "-------------------\n"
     ]
    },
    {
     "data": {
      "application/vnd.jupyter.widget-view+json": {
       "model_id": "59c55def8a8f43999c5685ef09d4ef52",
       "version_major": 2,
       "version_minor": 0
      },
      "text/plain": [
       "i z:   0%|          | 0/4 [00:00<?, ?it/s]"
      ]
     },
     "metadata": {},
     "output_type": "display_data"
    },
    {
     "name": "stdout",
     "output_type": "stream",
     "text": [
      "-10 2 1.5 1.9 0.1 -0.5 1 -0.1\n"
     ]
    },
    {
     "name": "stderr",
     "output_type": "stream",
     "text": [
      "/mnt/d/Google_Drive/PhD-master/ubuntu-storage/ubuntu-windows/software/controls_2021/module.py:453: DeprecationWarning: `np.int` is a deprecated alias for the builtin `int`. To silence this warning, use `int` by itself. Doing this will not modify any behavior and is safe. When replacing `np.int`, you may wish to use e.g. `np.int64` or `np.int32` to specify the precision. If you wish to review your current use, check the release note link for additional information.\n",
      "Deprecated in NumPy 1.20; for more details and guidance: https://numpy.org/devdocs/release/1.20.0-notes.html#deprecations\n",
      "  my_int = np.vectorize(np.int)\n",
      "/mnt/d/Google_Drive/PhD-master/ubuntu-storage/ubuntu-windows/software/controls_2021/module.py:454: DeprecationWarning: `np.float` is a deprecated alias for the builtin `float`. To silence this warning, use `float` by itself. Doing this will not modify any behavior and is safe. If you specifically wanted the numpy scalar type, use `np.float64` here.\n",
      "Deprecated in NumPy 1.20; for more details and guidance: https://numpy.org/devdocs/release/1.20.0-notes.html#deprecations\n",
      "  my_float = np.vectorize(np.float)\n"
     ]
    },
    {
     "data": {
      "image/png": "[encoded data removed]",
      "text/plain": [
       "<Figure size 360x216 with 1 Axes>"
      ]
     },
     "metadata": {
      "needs_background": "light"
     },
     "output_type": "display_data"
    },
    {
     "name": "stdout",
     "output_type": "stream",
     "text": [
      "Total time: 200.00 out of 200.00 seconds\n",
      "-------------------\n",
      "-10 2 1.5 1.9 0.1 -0.5 1 0\n"
     ]
    },
    {
     "name": "stderr",
     "output_type": "stream",
     "text": [
      "/mnt/d/Google_Drive/PhD-master/ubuntu-storage/ubuntu-windows/software/controls_2021/module.py:453: DeprecationWarning: `np.int` is a deprecated alias for the builtin `int`. To silence this warning, use `int` by itself. Doing this will not modify any behavior and is safe. When replacing `np.int`, you may wish to use e.g. `np.int64` or `np.int32` to specify the precision. If you wish to review your current use, check the release note link for additional information.\n",
      "Deprecated in NumPy 1.20; for more details and guidance: https://numpy.org/devdocs/release/1.20.0-notes.html#deprecations\n",
      "  my_int = np.vectorize(np.int)\n",
      "/mnt/d/Google_Drive/PhD-master/ubuntu-storage/ubuntu-windows/software/controls_2021/module.py:454: DeprecationWarning: `np.float` is a deprecated alias for the builtin `float`. To silence this warning, use `float` by itself. Doing this will not modify any behavior and is safe. If you specifically wanted the numpy scalar type, use `np.float64` here.\n",
      "Deprecated in NumPy 1.20; for more details and guidance: https://numpy.org/devdocs/release/1.20.0-notes.html#deprecations\n",
      "  my_float = np.vectorize(np.float)\n"
     ]
    },
    {
     "data": {
      "image/png": "[encoded data removed]",
      "text/plain": [
       "<Figure size 360x216 with 1 Axes>"
      ]
     },
     "metadata": {
      "needs_background": "light"
     },
     "output_type": "display_data"
    },
    {
     "name": "stdout",
     "output_type": "stream",
     "text": [
      "Total time: 200.00 out of 200.00 seconds\n",
      "-------------------\n",
      "-10 2 1.5 1.9 0.1 -0.5 1 0.1\n"
     ]
    },
    {
     "name": "stderr",
     "output_type": "stream",
     "text": [
      "/mnt/d/Google_Drive/PhD-master/ubuntu-storage/ubuntu-windows/software/controls_2021/module.py:453: DeprecationWarning: `np.int` is a deprecated alias for the builtin `int`. To silence this warning, use `int` by itself. Doing this will not modify any behavior and is safe. When replacing `np.int`, you may wish to use e.g. `np.int64` or `np.int32` to specify the precision. If you wish to review your current use, check the release note link for additional information.\n",
      "Deprecated in NumPy 1.20; for more details and guidance: https://numpy.org/devdocs/release/1.20.0-notes.html#deprecations\n",
      "  my_int = np.vectorize(np.int)\n",
      "/mnt/d/Google_Drive/PhD-master/ubuntu-storage/ubuntu-windows/software/controls_2021/module.py:454: DeprecationWarning: `np.float` is a deprecated alias for the builtin `float`. To silence this warning, use `float` by itself. Doing this will not modify any behavior and is safe. If you specifically wanted the numpy scalar type, use `np.float64` here.\n",
      "Deprecated in NumPy 1.20; for more details and guidance: https://numpy.org/devdocs/release/1.20.0-notes.html#deprecations\n",
      "  my_float = np.vectorize(np.float)\n"
     ]
    },
    {
     "data": {
      "image/png": "[encoded data removed]",
      "text/plain": [
       "<Figure size 360x216 with 1 Axes>"
      ]
     },
     "metadata": {
      "needs_background": "light"
     },
     "output_type": "display_data"
    },
    {
     "name": "stdout",
     "output_type": "stream",
     "text": [
      "Total time: 200.00 out of 200.00 seconds\n",
      "-------------------\n",
      "-10 2 1.5 1.9 0.1 -0.5 1 0.2\n"
     ]
    },
    {
     "name": "stderr",
     "output_type": "stream",
     "text": [
      "/mnt/d/Google_Drive/PhD-master/ubuntu-storage/ubuntu-windows/software/controls_2021/module.py:453: DeprecationWarning: `np.int` is a deprecated alias for the builtin `int`. To silence this warning, use `int` by itself. Doing this will not modify any behavior and is safe. When replacing `np.int`, you may wish to use e.g. `np.int64` or `np.int32` to specify the precision. If you wish to review your current use, check the release note link for additional information.\n",
      "Deprecated in NumPy 1.20; for more details and guidance: https://numpy.org/devdocs/release/1.20.0-notes.html#deprecations\n",
      "  my_int = np.vectorize(np.int)\n",
      "/mnt/d/Google_Drive/PhD-master/ubuntu-storage/ubuntu-windows/software/controls_2021/module.py:454: DeprecationWarning: `np.float` is a deprecated alias for the builtin `float`. To silence this warning, use `float` by itself. Doing this will not modify any behavior and is safe. If you specifically wanted the numpy scalar type, use `np.float64` here.\n",
      "Deprecated in NumPy 1.20; for more details and guidance: https://numpy.org/devdocs/release/1.20.0-notes.html#deprecations\n",
      "  my_float = np.vectorize(np.float)\n"
     ]
    },
    {
     "data": {
      "image/png": "[encoded data removed]",
      "text/plain": [
       "<Figure size 360x216 with 1 Axes>"
      ]
     },
     "metadata": {
      "needs_background": "light"
     },
     "output_type": "display_data"
    },
    {
     "name": "stdout",
     "output_type": "stream",
     "text": [
      "Total time: 200.00 out of 200.00 seconds\n",
      "-------------------\n"
     ]
    },
    {
     "data": {
      "application/vnd.jupyter.widget-view+json": {
       "model_id": "ca481e1b867d40bd9ac71d632a977452",
       "version_major": 2,
       "version_minor": 0
      },
      "text/plain": [
       "i z:   0%|          | 0/4 [00:00<?, ?it/s]"
      ]
     },
     "metadata": {},
     "output_type": "display_data"
    },
    {
     "name": "stdout",
     "output_type": "stream",
     "text": [
      "-10 2 1.5 1.9 0.1 -0.5 0.7 -0.1\n"
     ]
    },
    {
     "name": "stderr",
     "output_type": "stream",
     "text": [
      "/mnt/d/Google_Drive/PhD-master/ubuntu-storage/ubuntu-windows/software/controls_2021/module.py:453: DeprecationWarning: `np.int` is a deprecated alias for the builtin `int`. To silence this warning, use `int` by itself. Doing this will not modify any behavior and is safe. When replacing `np.int`, you may wish to use e.g. `np.int64` or `np.int32` to specify the precision. If you wish to review your current use, check the release note link for additional information.\n",
      "Deprecated in NumPy 1.20; for more details and guidance: https://numpy.org/devdocs/release/1.20.0-notes.html#deprecations\n",
      "  my_int = np.vectorize(np.int)\n",
      "/mnt/d/Google_Drive/PhD-master/ubuntu-storage/ubuntu-windows/software/controls_2021/module.py:454: DeprecationWarning: `np.float` is a deprecated alias for the builtin `float`. To silence this warning, use `float` by itself. Doing this will not modify any behavior and is safe. If you specifically wanted the numpy scalar type, use `np.float64` here.\n",
      "Deprecated in NumPy 1.20; for more details and guidance: https://numpy.org/devdocs/release/1.20.0-notes.html#deprecations\n",
      "  my_float = np.vectorize(np.float)\n"
     ]
    },
    {
     "data": {
      "image/png": "[encoded data removed]",
      "text/plain": [
       "<Figure size 360x216 with 1 Axes>"
      ]
     },
     "metadata": {
      "needs_background": "light"
     },
     "output_type": "display_data"
    },
    {
     "name": "stdout",
     "output_type": "stream",
     "text": [
      "Total time: 200.00 out of 200.00 seconds\n",
      "-------------------\n",
      "-10 2 1.5 1.9 0.1 -0.5 0.7 0\n"
     ]
    },
    {
     "name": "stderr",
     "output_type": "stream",
     "text": [
      "/mnt/d/Google_Drive/PhD-master/ubuntu-storage/ubuntu-windows/software/controls_2021/module.py:453: DeprecationWarning: `np.int` is a deprecated alias for the builtin `int`. To silence this warning, use `int` by itself. Doing this will not modify any behavior and is safe. When replacing `np.int`, you may wish to use e.g. `np.int64` or `np.int32` to specify the precision. If you wish to review your current use, check the release note link for additional information.\n",
      "Deprecated in NumPy 1.20; for more details and guidance: https://numpy.org/devdocs/release/1.20.0-notes.html#deprecations\n",
      "  my_int = np.vectorize(np.int)\n",
      "/mnt/d/Google_Drive/PhD-master/ubuntu-storage/ubuntu-windows/software/controls_2021/module.py:454: DeprecationWarning: `np.float` is a deprecated alias for the builtin `float`. To silence this warning, use `float` by itself. Doing this will not modify any behavior and is safe. If you specifically wanted the numpy scalar type, use `np.float64` here.\n",
      "Deprecated in NumPy 1.20; for more details and guidance: https://numpy.org/devdocs/release/1.20.0-notes.html#deprecations\n",
      "  my_float = np.vectorize(np.float)\n"
     ]
    },
    {
     "data": {
      "image/png": "[encoded data removed]",
      "text/plain": [
       "<Figure size 360x216 with 1 Axes>"
      ]
     },
     "metadata": {
      "needs_background": "light"
     },
     "output_type": "display_data"
    },
    {
     "name": "stdout",
     "output_type": "stream",
     "text": [
      "Total time: 200.00 out of 200.00 seconds\n",
      "-------------------\n",
      "-10 2 1.5 1.9 0.1 -0.5 0.7 0.1\n"
     ]
    },
    {
     "name": "stderr",
     "output_type": "stream",
     "text": [
      "/mnt/d/Google_Drive/PhD-master/ubuntu-storage/ubuntu-windows/software/controls_2021/module.py:453: DeprecationWarning: `np.int` is a deprecated alias for the builtin `int`. To silence this warning, use `int` by itself. Doing this will not modify any behavior and is safe. When replacing `np.int`, you may wish to use e.g. `np.int64` or `np.int32` to specify the precision. If you wish to review your current use, check the release note link for additional information.\n",
      "Deprecated in NumPy 1.20; for more details and guidance: https://numpy.org/devdocs/release/1.20.0-notes.html#deprecations\n",
      "  my_int = np.vectorize(np.int)\n",
      "/mnt/d/Google_Drive/PhD-master/ubuntu-storage/ubuntu-windows/software/controls_2021/module.py:454: DeprecationWarning: `np.float` is a deprecated alias for the builtin `float`. To silence this warning, use `float` by itself. Doing this will not modify any behavior and is safe. If you specifically wanted the numpy scalar type, use `np.float64` here.\n",
      "Deprecated in NumPy 1.20; for more details and guidance: https://numpy.org/devdocs/release/1.20.0-notes.html#deprecations\n",
      "  my_float = np.vectorize(np.float)\n"
     ]
    },
    {
     "data": {
      "image/png": "[encoded data removed]",
      "text/plain": [
       "<Figure size 360x216 with 1 Axes>"
      ]
     },
     "metadata": {
      "needs_background": "light"
     },
     "output_type": "display_data"
    },
    {
     "name": "stdout",
     "output_type": "stream",
     "text": [
      "Total time: 200.00 out of 200.00 seconds\n",
      "-------------------\n",
      "-10 2 1.5 1.9 0.1 -0.5 0.7 0.2\n"
     ]
    },
    {
     "name": "stderr",
     "output_type": "stream",
     "text": [
      "/mnt/d/Google_Drive/PhD-master/ubuntu-storage/ubuntu-windows/software/controls_2021/module.py:453: DeprecationWarning: `np.int` is a deprecated alias for the builtin `int`. To silence this warning, use `int` by itself. Doing this will not modify any behavior and is safe. When replacing `np.int`, you may wish to use e.g. `np.int64` or `np.int32` to specify the precision. If you wish to review your current use, check the release note link for additional information.\n",
      "Deprecated in NumPy 1.20; for more details and guidance: https://numpy.org/devdocs/release/1.20.0-notes.html#deprecations\n",
      "  my_int = np.vectorize(np.int)\n",
      "/mnt/d/Google_Drive/PhD-master/ubuntu-storage/ubuntu-windows/software/controls_2021/module.py:454: DeprecationWarning: `np.float` is a deprecated alias for the builtin `float`. To silence this warning, use `float` by itself. Doing this will not modify any behavior and is safe. If you specifically wanted the numpy scalar type, use `np.float64` here.\n",
      "Deprecated in NumPy 1.20; for more details and guidance: https://numpy.org/devdocs/release/1.20.0-notes.html#deprecations\n",
      "  my_float = np.vectorize(np.float)\n"
     ]
    },
    {
     "ename": "KeyboardInterrupt",
     "evalue": "",
     "output_type": "error",
     "traceback": [
      "\u001b[0;31m---------------------------------------------------------------------------\u001b[0m",
      "\u001b[0;31mKeyboardInterrupt\u001b[0m                         Traceback (most recent call last)",
      "\u001b[0;32m<ipython-input-8-195cfc8a038f>\u001b[0m in \u001b[0;36m<module>\u001b[0;34m\u001b[0m\n\u001b[1;32m     63\u001b[0m                                 \u001b[0mbroken\u001b[0m \u001b[0;34m=\u001b[0m \u001b[0;32mFalse\u001b[0m\u001b[0;34m\u001b[0m\u001b[0;34m\u001b[0m\u001b[0m\n\u001b[1;32m     64\u001b[0m                                 \u001b[0;32mfor\u001b[0m \u001b[0mi\u001b[0m \u001b[0;32min\u001b[0m \u001b[0mrange\u001b[0m\u001b[0;34m(\u001b[0m\u001b[0mN\u001b[0m\u001b[0;34m)\u001b[0m\u001b[0;34m:\u001b[0m\u001b[0;34m\u001b[0m\u001b[0;34m\u001b[0m\u001b[0m\n\u001b[0;32m---> 65\u001b[0;31m                                     \u001b[0mresults\u001b[0m\u001b[0;34m[\u001b[0m\u001b[0mi\u001b[0m\u001b[0;34m,\u001b[0m\u001b[0;36m0\u001b[0m\u001b[0;34m:\u001b[0m\u001b[0;36m12\u001b[0m\u001b[0;34m]\u001b[0m \u001b[0;34m=\u001b[0m \u001b[0mdrone\u001b[0m\u001b[0;34m.\u001b[0m\u001b[0mupdate\u001b[0m\u001b[0;34m(\u001b[0m\u001b[0;34m)\u001b[0m\u001b[0;34m\u001b[0m\u001b[0;34m\u001b[0m\u001b[0m\n\u001b[0m\u001b[1;32m     66\u001b[0m                                     \u001b[0mresults\u001b[0m\u001b[0;34m[\u001b[0m\u001b[0mi\u001b[0m\u001b[0;34m,\u001b[0m\u001b[0;36m12\u001b[0m\u001b[0;34m:\u001b[0m\u001b[0;36m14\u001b[0m\u001b[0;34m]\u001b[0m \u001b[0;34m=\u001b[0m \u001b[0;34m[\u001b[0m\u001b[0mV_left\u001b[0m\u001b[0;34m,\u001b[0m\u001b[0mV_right\u001b[0m\u001b[0;34m]\u001b[0m\u001b[0;34m\u001b[0m\u001b[0;34m\u001b[0m\u001b[0m\n\u001b[1;32m     67\u001b[0m                                     \u001b[0mz\u001b[0m \u001b[0;34m=\u001b[0m \u001b[0mresults\u001b[0m\u001b[0;34m[\u001b[0m\u001b[0mi\u001b[0m\u001b[0;34m,\u001b[0m\u001b[0;36m2\u001b[0m\u001b[0;34m]\u001b[0m\u001b[0;34m\u001b[0m\u001b[0;34m\u001b[0m\u001b[0m\n",
      "\u001b[0;32m/mnt/d/Google_Drive/PhD-master/ubuntu-storage/ubuntu-windows/software/controls_2021/module.py\u001b[0m in \u001b[0;36mupdate\u001b[0;34m(self)\u001b[0m\n\u001b[1;32m    186\u001b[0m             \u001b[0mself\u001b[0m\u001b[0;34m.\u001b[0m\u001b[0mF_wind_y\u001b[0m \u001b[0;34m=\u001b[0m \u001b[0;36m2\u001b[0m   \u001b[0;34m*\u001b[0m \u001b[0mself\u001b[0m\u001b[0;34m.\u001b[0m\u001b[0mperlin\u001b[0m\u001b[0;34m.\u001b[0m\u001b[0mSum\u001b[0m\u001b[0;34m(\u001b[0m\u001b[0mself\u001b[0m\u001b[0;34m.\u001b[0m\u001b[0mt\u001b[0m\u001b[0;34m+\u001b[0m\u001b[0mself\u001b[0m\u001b[0;34m.\u001b[0m\u001b[0mperlin_offset2\u001b[0m\u001b[0;34m,\u001b[0m \u001b[0;36m0.2\u001b[0m\u001b[0;34m,\u001b[0m \u001b[0;36m1\u001b[0m\u001b[0;34m,\u001b[0m \u001b[0;36m1.05\u001b[0m\u001b[0;34m,\u001b[0m \u001b[0;36m1.3\u001b[0m\u001b[0;34m)\u001b[0m\u001b[0;34m\u001b[0m\u001b[0;34m\u001b[0m\u001b[0m\n\u001b[1;32m    187\u001b[0m \u001b[0;34m\u001b[0m\u001b[0m\n\u001b[0;32m--> 188\u001b[0;31m         \u001b[0mself\u001b[0m\u001b[0;34m.\u001b[0m\u001b[0msolve_state\u001b[0m \u001b[0;34m=\u001b[0m \u001b[0modeint\u001b[0m\u001b[0;34m(\u001b[0m\u001b[0mself\u001b[0m\u001b[0;34m.\u001b[0m\u001b[0mdx\u001b[0m\u001b[0;34m,\u001b[0m \u001b[0mself\u001b[0m\u001b[0;34m.\u001b[0m\u001b[0msolve_state\u001b[0m\u001b[0;34m,\u001b[0m \u001b[0;34m[\u001b[0m\u001b[0;36m0\u001b[0m\u001b[0;34m,\u001b[0m \u001b[0mself\u001b[0m\u001b[0;34m.\u001b[0m\u001b[0mdeltaT\u001b[0m\u001b[0;34m]\u001b[0m\u001b[0;34m,\u001b[0m \u001b[0mtfirst\u001b[0m\u001b[0;34m=\u001b[0m\u001b[0;32mTrue\u001b[0m\u001b[0;34m,\u001b[0m \u001b[0margs\u001b[0m\u001b[0;34m=\u001b[0m\u001b[0;34m(\u001b[0m\u001b[0mself\u001b[0m\u001b[0;34m.\u001b[0m\u001b[0mF\u001b[0m\u001b[0;34m,\u001b[0m \u001b[0mself\u001b[0m\u001b[0;34m.\u001b[0m\u001b[0mtau\u001b[0m\u001b[0;34m)\u001b[0m\u001b[0;34m,\u001b[0m \u001b[0matol\u001b[0m\u001b[0;34m=\u001b[0m\u001b[0;36m1e-6\u001b[0m\u001b[0;34m,\u001b[0m \u001b[0mrtol\u001b[0m\u001b[0;34m=\u001b[0m\u001b[0;36m1e-6\u001b[0m\u001b[0;34m)\u001b[0m\u001b[0;34m[\u001b[0m\u001b[0;36m1\u001b[0m\u001b[0;34m]\u001b[0m\u001b[0;34m\u001b[0m\u001b[0;34m\u001b[0m\u001b[0m\n\u001b[0m\u001b[1;32m    189\u001b[0m         \u001b[0mself\u001b[0m\u001b[0;34m.\u001b[0m\u001b[0mset_state\u001b[0m\u001b[0;34m(\u001b[0m\u001b[0;34m)\u001b[0m\u001b[0;34m\u001b[0m\u001b[0;34m\u001b[0m\u001b[0m\n\u001b[1;32m    190\u001b[0m         \u001b[0;32mreturn\u001b[0m \u001b[0mnp\u001b[0m\u001b[0;34m.\u001b[0m\u001b[0mconcatenate\u001b[0m\u001b[0;34m(\u001b[0m\u001b[0;34m(\u001b[0m\u001b[0;34m[\u001b[0m\u001b[0mself\u001b[0m\u001b[0;34m.\u001b[0m\u001b[0mt\u001b[0m\u001b[0;34m]\u001b[0m\u001b[0;34m,\u001b[0m \u001b[0mself\u001b[0m\u001b[0;34m.\u001b[0m\u001b[0mpos\u001b[0m\u001b[0;34m,\u001b[0m \u001b[0mself\u001b[0m\u001b[0;34m.\u001b[0m\u001b[0mvel\u001b[0m\u001b[0;34m,\u001b[0m \u001b[0mself\u001b[0m\u001b[0;34m.\u001b[0m\u001b[0mforces\u001b[0m\u001b[0;34m,\u001b[0m \u001b[0;34m[\u001b[0m\u001b[0mself\u001b[0m\u001b[0;34m.\u001b[0m\u001b[0mtarget_idx\u001b[0m\u001b[0;34m]\u001b[0m\u001b[0;34m)\u001b[0m\u001b[0;34m)\u001b[0m\u001b[0;34m\u001b[0m\u001b[0;34m\u001b[0m\u001b[0m\n",
      "\u001b[0;32m~/miniconda3/envs/strax/lib/python3.8/site-packages/scipy/integrate/odepack.py\u001b[0m in \u001b[0;36modeint\u001b[0;34m(func, y0, t, args, Dfun, col_deriv, full_output, ml, mu, rtol, atol, tcrit, h0, hmax, hmin, ixpr, mxstep, mxhnil, mxordn, mxords, printmessg, tfirst)\u001b[0m\n\u001b[1;32m    239\u001b[0m     \u001b[0mt\u001b[0m \u001b[0;34m=\u001b[0m \u001b[0mcopy\u001b[0m\u001b[0;34m(\u001b[0m\u001b[0mt\u001b[0m\u001b[0;34m)\u001b[0m\u001b[0;34m\u001b[0m\u001b[0;34m\u001b[0m\u001b[0m\n\u001b[1;32m    240\u001b[0m     \u001b[0my0\u001b[0m \u001b[0;34m=\u001b[0m \u001b[0mcopy\u001b[0m\u001b[0;34m(\u001b[0m\u001b[0my0\u001b[0m\u001b[0;34m)\u001b[0m\u001b[0;34m\u001b[0m\u001b[0;34m\u001b[0m\u001b[0m\n\u001b[0;32m--> 241\u001b[0;31m     output = _odepack.odeint(func, y0, t, args, Dfun, col_deriv, ml, mu,\n\u001b[0m\u001b[1;32m    242\u001b[0m                              \u001b[0mfull_output\u001b[0m\u001b[0;34m,\u001b[0m \u001b[0mrtol\u001b[0m\u001b[0;34m,\u001b[0m \u001b[0matol\u001b[0m\u001b[0;34m,\u001b[0m \u001b[0mtcrit\u001b[0m\u001b[0;34m,\u001b[0m \u001b[0mh0\u001b[0m\u001b[0;34m,\u001b[0m \u001b[0mhmax\u001b[0m\u001b[0;34m,\u001b[0m \u001b[0mhmin\u001b[0m\u001b[0;34m,\u001b[0m\u001b[0;34m\u001b[0m\u001b[0;34m\u001b[0m\u001b[0m\n\u001b[1;32m    243\u001b[0m                              \u001b[0mixpr\u001b[0m\u001b[0;34m,\u001b[0m \u001b[0mmxstep\u001b[0m\u001b[0;34m,\u001b[0m \u001b[0mmxhnil\u001b[0m\u001b[0;34m,\u001b[0m \u001b[0mmxordn\u001b[0m\u001b[0;34m,\u001b[0m \u001b[0mmxords\u001b[0m\u001b[0;34m,\u001b[0m\u001b[0;34m\u001b[0m\u001b[0;34m\u001b[0m\u001b[0m\n",
      "\u001b[0;32m/mnt/d/Google_Drive/PhD-master/ubuntu-storage/ubuntu-windows/software/controls_2021/module.py\u001b[0m in \u001b[0;36mdx\u001b[0;34m(self, t, x, F, tau)\u001b[0m\n\u001b[1;32m    111\u001b[0m         \u001b[0mself\u001b[0m\u001b[0;34m.\u001b[0m\u001b[0mnum_targets\u001b[0m \u001b[0;34m=\u001b[0m \u001b[0mself\u001b[0m\u001b[0;34m.\u001b[0m\u001b[0mtargets\u001b[0m\u001b[0;34m.\u001b[0m\u001b[0mshape\u001b[0m\u001b[0;34m[\u001b[0m\u001b[0;36m0\u001b[0m\u001b[0;34m]\u001b[0m\u001b[0;34m\u001b[0m\u001b[0;34m\u001b[0m\u001b[0m\n\u001b[1;32m    112\u001b[0m \u001b[0;34m\u001b[0m\u001b[0m\n\u001b[0;32m--> 113\u001b[0;31m     \u001b[0;32mdef\u001b[0m \u001b[0mdx\u001b[0m\u001b[0;34m(\u001b[0m\u001b[0mself\u001b[0m\u001b[0;34m,\u001b[0m \u001b[0mt\u001b[0m\u001b[0;34m,\u001b[0m \u001b[0mx\u001b[0m\u001b[0;34m,\u001b[0m \u001b[0mF\u001b[0m\u001b[0;34m,\u001b[0m \u001b[0mtau\u001b[0m\u001b[0;34m)\u001b[0m\u001b[0;34m:\u001b[0m\u001b[0;34m\u001b[0m\u001b[0;34m\u001b[0m\u001b[0m\n\u001b[0m\u001b[1;32m    114\u001b[0m         \"\"\"\n\u001b[1;32m    115\u001b[0m         \u001b[0mstate\u001b[0m \u001b[0mupdate\u001b[0m \u001b[0mfunction\u001b[0m \u001b[0;32mfor\u001b[0m \u001b[0muse\u001b[0m \u001b[0;32mwith\u001b[0m \u001b[0mScipy\u001b[0m\u001b[0;31m'\u001b[0m\u001b[0ms\u001b[0m \u001b[0modeint\u001b[0m\u001b[0;34m(\u001b[0m\u001b[0mdx\u001b[0m\u001b[0;34m,\u001b[0m \u001b[0;34m...\u001b[0m\u001b[0;34m,\u001b[0m \u001b[0mtfirst\u001b[0m\u001b[0;34m=\u001b[0m\u001b[0;32mTrue\u001b[0m\u001b[0;34m)\u001b[0m\u001b[0;34m.\u001b[0m\u001b[0;34m\u001b[0m\u001b[0;34m\u001b[0m\u001b[0m\n",
      "\u001b[0;31mKeyboardInterrupt\u001b[0m: "
     ]
    }
   ],
   "source": [
    "for PPHI in tqdm([-10,-5], desc = 'p phi'):\n",
    "    for DPHI in tqdm([2, 4], desc = 'd phi'):\n",
    "        for PY in tqdm([1.5, 2], desc = 'p y'):\n",
    "            for DY in tqdm([1.9, 2.1], desc = 'd y'):\n",
    "                for IY in tqdm([0.1,0.2,0.3], desc = 'd i'):\n",
    "                    for PZ in tqdm([-4, -2, -0.5], desc = 'p z'):\n",
    "                        for DZ in tqdm([1.1, 1 ,0.7], desc = 'd z'):\n",
    "                            for IZ in tqdm([-0.1, 0, 0.1, 0.2], desc = 'i z'):\n",
    "                                print(PPHI, DPHI, PY, DY, DI, PZ, DZ, IZ)\n",
    "                                # vertical feedback loop\n",
    "                                def z_PID_feedback(z, dz, z0, z_fb):\n",
    "                                    # z: z position of drone\n",
    "                                    # dz: z velocity of drone\n",
    "                                    # z0 : set point\n",
    "                                    # z_fb: previously returned feedback\n",
    "                                    p =  PZ #-2\n",
    "                                    d =  DZ #1\n",
    "                                    i = IZ #0.9  # integrator gain\n",
    "                                    fb = (z-z0) * p - d * dz + i*z_fb\n",
    "                                    return fb\n",
    "\n",
    "                                # phi faster than y!!\n",
    "                                def phi_damped_feedback(phi, dphi, phi0):\n",
    "                                    p =  PPHI #10\n",
    "                                    d =  DPHI # 4\n",
    "\n",
    "                                    fb = (phi-phi0) * p + d * dphi\n",
    "                                    return fb\n",
    "\n",
    "\n",
    "                                def y_PID_feedback(y, dy, y0, y_fb):\n",
    "                                    p = PY# 2\n",
    "                                    d = DY#1.9\n",
    "                                    i = IY # 0.2\n",
    "                                    fb = (y-y0) * p + d * dy + i * y_fb\n",
    "                                    # we limit the tilt the drone no more that +-0.2 pi\n",
    "                                    fb = np.clip(fb, -0.2*np.pi, 0.2*np.pi)\n",
    "                                    return fb\n",
    "\n",
    "                                drone = module.Drone(name=MyName, wind=True)\n",
    "                                # Defining the track as an array of targets [y,z,radius].\n",
    "                                # The targets have to be reached in the given order.\n",
    "                                targets = np.array([\n",
    "                                    [ 200,  300, 10],\n",
    "                                    [ 200, -300, 10],\n",
    "                                    [-200, -300, 10],\n",
    "                                    [-200,  300, 10],\n",
    "                                    [0,0,10]\n",
    "                                ])\n",
    "\n",
    "                                # Setting the targets\n",
    "                                drone.set_targets(targets)\n",
    "\n",
    "                                # Runnding for 200 seconds\n",
    "                                N = 200*60\n",
    "                                Nidx = N-1\n",
    "                                results = np.zeros([N,14])\n",
    "                                V_left=V_right=0\n",
    "                                set_v(drone,V_left,V_right)\n",
    "                                z_fb = 0\n",
    "                                y_fb = 0 \n",
    "                                phi_fb = 0\n",
    "                                broken = False\n",
    "                                for i in range(N):\n",
    "                                    results[i,0:12] = drone.update()\n",
    "                                    results[i,12:14] = [V_left,V_right]\n",
    "                                    z = results[i,2]\n",
    "                                    dz = results[i,5]\n",
    "                                    y = results[i,1]\n",
    "                                    if (np.abs(y)-500 >-1)  | (np.abs(z)-500 >-1):\n",
    "                                        broken = True\n",
    "#                                         print('broken')\n",
    "#                                         break\n",
    "                                    dy = results[i,4]\n",
    "                                    phi = results[i,3]\n",
    "                                    dphi = results[i,6]\n",
    "\n",
    "                                    # Setting the set point as the current target positon \n",
    "                                    idx = drone.target_idx\n",
    "                                    # stop if we have reached all targets\n",
    "                                    if idx == drone.num_targets:\n",
    "                                        Nidx = i\n",
    "                                        break\n",
    "                                    y0 = targets[idx,0]\n",
    "                                    z0 = targets[idx,1]\n",
    "\n",
    "                                    # ----------------------------------------------------\n",
    "                                    y_fb  = y_PID_feedback(y, dy, y0, y_fb)\n",
    "                                    phi_fb = phi_damped_feedback(phi, dphi, y_fb)\n",
    "                                    z_fb = z_PID_feedback(z, dz, z0, z_fb)\n",
    "\n",
    "                                    # ----------------------------------------------------\n",
    "\n",
    "                                    # applying feedback\n",
    "                                    V_left, V_right = zphi2V(z_fb, phi_fb)\n",
    "\n",
    "                                    # ----------------------------------------------------\n",
    "                                    # Change the below to your set_v function (which you\n",
    "                                    # used to develop the feedback loops)\n",
    "                                    set_v_nohover(drone,V_left, V_right)\n",
    "                                    # ----------------------------------------------------\n",
    "#                                 if broken:\n",
    "#                                     break\n",
    "                                #Plotting the reuslts\n",
    "\n",
    "                                start=0\n",
    "                                t = results[start:,0]\n",
    "                                y = results[start:,1]\n",
    "                                z = results[start:,2]\n",
    "                                phi = results[start:,3]\n",
    "                                dphi = results[start:,6]\n",
    "                                fig, ax = plt.subplots(1, figsize=(5,3))\n",
    "                                for _t in targets:\n",
    "                                    patch = plt.Circle((_t[0],_t[1]),2*_t[2], lw=1, color='red', alpha=0.5, fill=False)\n",
    "                                    ax.add_patch(patch)\n",
    "                                plt.plot(y,z, 'k')\n",
    "                                ax.set_xlabel(\"y\")\n",
    "                                ax.set_ylabel(\"z\")\n",
    "                                ax.set_xlim(-500,500)\n",
    "                                ax.set_ylim(-500,500)\n",
    "                                ax.set_aspect('equal')\n",
    "                                plt.grid()\n",
    "                                #plt.legend()\n",
    "                                plt.tight_layout()\n",
    "                                plt.show()\n",
    "                                t_end = results[Nidx,0]\n",
    "\n",
    "                                print(f\"Total time: {t_end:.2f} out of {N/60.0:.2f} seconds\")\n",
    "                                if t_end < 200:\n",
    "                                    break\n",
    "                                print('-------------------')"
   ]
  },
  {
   "cell_type": "code",
   "execution_count": 5,
   "metadata": {
    "ExecuteTime": {
     "end_time": "2021-04-15T14:26:21.560700Z",
     "start_time": "2021-04-15T14:26:21.551134Z"
    }
   },
   "outputs": [
    {
     "name": "stderr",
     "output_type": "stream",
     "text": [
      "/home/joran/miniconda3/envs/strax/lib/python3.8/site-packages/ipykernel/ipkernel.py:283: DeprecationWarning: `should_run_async` will not call `transform_cell` automatically in the future. Please pass the result to `transformed_cell` argument and any exception that happen during thetransform in `preprocessing_exc_tuple` in IPython 7.17 and above.\n",
      "  and should_run_async(code)\n"
     ]
    },
    {
     "data": {
      "text/plain": [
       "432"
      ]
     },
     "execution_count": 5,
     "metadata": {},
     "output_type": "execute_result"
    }
   ],
   "source": [
    "k\n"
   ]
  },
  {
   "cell_type": "code",
   "execution_count": 4,
   "metadata": {
    "ExecuteTime": {
     "end_time": "2021-04-15T14:41:11.647999Z",
     "start_time": "2021-04-15T14:41:11.641661Z"
    }
   },
   "outputs": [],
   "source": [
    "import sys\n",
    "import warnings\n",
    "\n",
    "if not sys.warnoptions:\n",
    "    warnings.simplefilter(\"ignore\")"
   ]
  },
  {
   "cell_type": "code",
   "execution_count": 30,
   "metadata": {
    "ExecuteTime": {
     "end_time": "2021-04-15T14:47:35.386493Z",
     "start_time": "2021-04-15T14:47:35.382968Z"
    }
   },
   "outputs": [],
   "source": [
    "PPHI, DPHI,  IY  = -10, 4, 2\n",
    "PY, DY = 1.9, 0.6\n",
    "PZ, DZ, IZ = -10, 2, 0.2"
   ]
  },
  {
   "cell_type": "code",
   "execution_count": 31,
   "metadata": {
    "ExecuteTime": {
     "end_time": "2021-04-15T14:47:50.715283Z",
     "start_time": "2021-04-15T14:47:35.593223Z"
    },
    "code_folding": [
     2,
     14,
     22,
     55,
     99
    ]
   },
   "outputs": [
    {
     "name": "stdout",
     "output_type": "stream",
     "text": [
      "-10 4 1.9 0.6 2 -10 2 0.2\n"
     ]
    },
    {
     "data": {
      "image/png": "[encoded data removed]",
      "text/plain": [
       "<Figure size 864x432 with 1 Axes>"
      ]
     },
     "metadata": {
      "needs_background": "light"
     },
     "output_type": "display_data"
    },
    {
     "name": "stdout",
     "output_type": "stream",
     "text": [
      "Total time: 200.00 out of 200.00 seconds\n",
      "-------------------\n"
     ]
    },
    {
     "data": {
      "image/png": "[encoded data removed]",
      "text/plain": [
       "<Figure size 432x288 with 1 Axes>"
      ]
     },
     "metadata": {
      "needs_background": "light"
     },
     "output_type": "display_data"
    }
   ],
   "source": [
    "print(PPHI, DPHI, PY, DY, IY, PZ, DZ, IZ)\n",
    "# vertical feedback loop\n",
    "def z_PID_feedback(z, dz, z0, z_fb):\n",
    "    # z: z position of drone\n",
    "    # dz: z velocity of drone\n",
    "    # z0 : set point\n",
    "    # z_fb: previously returned feedback\n",
    "    p =  PZ #-2\n",
    "    d =  DZ #1\n",
    "    i = IZ #0.9  # integrator gain\n",
    "    fb = (z-z0) * p - d * dz + i*z_fb\n",
    "    return fb\n",
    "\n",
    "# phi faster than y!!\n",
    "def phi_damped_feedback(phi, dphi, phi0):\n",
    "    p =  PPHI #10\n",
    "    d =  DPHI # 4\n",
    "\n",
    "    fb = (phi-phi0) * p + d * dphi\n",
    "    return fb\n",
    "\n",
    "\n",
    "def y_PID_feedback(y, dy, y0, y_fb):\n",
    "    p = PY# 2\n",
    "    d = DY#1.9\n",
    "    i = IY # 0.2\n",
    "    fb = (y-y0) * p + d * dy + i * y_fb\n",
    "    # we limit the tilt the drone no more that +-0.2 pi\n",
    "    fb = np.clip(fb, -0.2*np.pi, 0.2*np.pi)\n",
    "    return fb\n",
    "\n",
    "drone = module.Drone(name=MyName, wind=True)\n",
    "# Defining the track as an array of targets [y,z,radius].\n",
    "# The targets have to be reached in the given order.\n",
    "targets = np.array([\n",
    "    [ 200,  300, 10],\n",
    "    [ 200, -300, 10],\n",
    "    [-200, -300, 10],\n",
    "    [-200,  300, 10],\n",
    "    [0,0,10]\n",
    "])\n",
    "\n",
    "# Setting the targets\n",
    "drone.set_targets(targets)\n",
    "\n",
    "# Runnding for 200 seconds\n",
    "N = 200*60\n",
    "Nidx = N-1\n",
    "results = np.zeros([N,14])\n",
    "V_left=V_right=0\n",
    "set_v(drone,V_left,V_right)\n",
    "z_fb = 0\n",
    "y_fb = 0 \n",
    "phi_fb = 0\n",
    "\n",
    "for i in range(N):\n",
    "    results[i,0:12] = drone.update()\n",
    "    results[i,12:14] = [V_left,V_right]\n",
    "    z = results[i,2]\n",
    "    dz = results[i,5]\n",
    "    y = results[i,1]\n",
    "    dy = results[i,4]\n",
    "    phi = results[i,3]\n",
    "    dphi = results[i,6]\n",
    "\n",
    "    # Setting the set point as the current target positon \n",
    "    idx = drone.target_idx\n",
    "    # stop if we have reached all targets\n",
    "    if idx == drone.num_targets:\n",
    "        Nidx = i\n",
    "        break\n",
    "    y0 = targets[idx,0]\n",
    "    z0 = targets[idx,1]\n",
    "\n",
    "    # ----------------------------------------------------\n",
    "    y_fb  = y_PID_feedback(y, dy, y0, y_fb)\n",
    "    phi_fb = phi_damped_feedback(phi, dphi, y_fb)\n",
    "    z_fb = z_PID_feedback(z, dz, z0, z_fb)\n",
    "\n",
    "    # ----------------------------------------------------\n",
    "\n",
    "    # applying feedback\n",
    "    V_left, V_right = zphi2V(z_fb, phi_fb)\n",
    "\n",
    "    # ----------------------------------------------------\n",
    "    # Change the below to your set_v function (which you\n",
    "    # used to develop the feedback loops)\n",
    "    set_v_nohover(drone,V_left, V_right)\n",
    "    # ----------------------------------------------------\n",
    "\n",
    "#Plotting the reuslts\n",
    "if True:\n",
    "    start=0\n",
    "    t = results[start:,0]\n",
    "    y = results[start:,1]\n",
    "    z = results[start:,2]\n",
    "    phi = results[start:,3]\n",
    "    dphi = results[start:,6]\n",
    "    fig, ax = plt.subplots(1, figsize=(12,6))\n",
    "    for _t in targets:\n",
    "        patch = plt.Circle((_t[0],_t[1]),2*_t[2], lw=1, color='red', alpha=0.5, fill=False)\n",
    "        ax.add_patch(patch)\n",
    "    plt.plot(y,z, 'k')\n",
    "    ax.set_xlabel(\"y\")\n",
    "    ax.set_ylabel(\"z\")\n",
    "    ax.set_xlim(-500,500)\n",
    "    ax.set_ylim(-500,500)\n",
    "    ax.set_aspect('equal')\n",
    "    plt.grid()\n",
    "    #plt.legend()\n",
    "    plt.tight_layout()\n",
    "    plt.show()\n",
    "    plt.plot(t,phi, 'k')\n",
    "    t_end = results[Nidx,0]\n",
    "\n",
    "print(f\"Total time: {t_end:.2f} out of {N/60.0:.2f} seconds\")\n",
    "if t_end < 201:\n",
    "    pass\n",
    "print('-------------------')"
   ]
  },
  {
   "cell_type": "code",
   "execution_count": 13,
   "metadata": {
    "ExecuteTime": {
     "end_time": "2021-04-15T14:43:00.209466Z",
     "start_time": "2021-04-15T14:43:00.173722Z"
    }
   },
   "outputs": [
    {
     "ename": "NameError",
     "evalue": "name 'DI' is not defined",
     "output_type": "error",
     "traceback": [
      "\u001b[0;31m---------------------------------------------------------------------------\u001b[0m",
      "\u001b[0;31mNameError\u001b[0m                                 Traceback (most recent call last)",
      "\u001b[0;32m<ipython-input-13-bfbb3939d981>\u001b[0m in \u001b[0;36m<module>\u001b[0;34m\u001b[0m\n\u001b[0;32m----> 1\u001b[0;31m \u001b[0mPPHI\u001b[0m\u001b[0;34m,\u001b[0m \u001b[0mDPHI\u001b[0m\u001b[0;34m,\u001b[0m \u001b[0mPY\u001b[0m\u001b[0;34m,\u001b[0m \u001b[0mDY\u001b[0m\u001b[0;34m,\u001b[0m \u001b[0mDI\u001b[0m\u001b[0;34m,\u001b[0m \u001b[0mPZ\u001b[0m\u001b[0;34m,\u001b[0m \u001b[0mDZ\u001b[0m\u001b[0;34m,\u001b[0m \u001b[0mIZ\u001b[0m\u001b[0;34m\u001b[0m\u001b[0;34m\u001b[0m\u001b[0m\n\u001b[0m",
      "\u001b[0;31mNameError\u001b[0m: name 'DI' is not defined"
     ]
    }
   ],
   "source": [
    "PPHI, DPHI, PY, DY, DI, PZ, DZ, IZ"
   ]
  },
  {
   "cell_type": "code",
   "execution_count": null,
   "metadata": {},
   "outputs": [],
   "source": []
  }
 ],
 "metadata": {
  "kernelspec": {
   "display_name": "Python 3",
   "language": "python",
   "name": "python3"
  },
  "language_info": {
   "codemirror_mode": {
    "name": "ipython",
    "version": 3
   },
   "file_extension": ".py",
   "mimetype": "text/x-python",
   "name": "python",
   "nbconvert_exporter": "python",
   "pygments_lexer": "ipython3",
   "version": "3.8.5"
  },
  "latex_envs": {
   "LaTeX_envs_menu_present": true,
   "autoclose": false,
   "autocomplete": true,
   "bibliofile": "biblio.bib",
   "cite_by": "apalike",
   "current_citInitial": 1,
   "eqLabelWithNumbers": true,
   "eqNumInitial": 1,
   "hotkeys": {
    "equation": "Ctrl-E",
    "itemize": "Ctrl-I"
   },
   "labels_anchors": false,
   "latex_user_defs": false,
   "report_style_numbering": false,
   "user_envs_cfg": false
  },
  "varInspector": {
   "cols": {
    "lenName": 16,
    "lenType": 16,
    "lenVar": 40
   },
   "kernels_config": {
    "python": {
     "delete_cmd_postfix": "",
     "delete_cmd_prefix": "del ",
     "library": "var_list.py",
     "varRefreshCmd": "print(var_dic_list())"
    },
    "r": {
     "delete_cmd_postfix": ") ",
     "delete_cmd_prefix": "rm(",
     "library": "var_list.r",
     "varRefreshCmd": "cat(var_dic_list()) "
    }
   },
   "types_to_exclude": [
    "module",
    "function",
    "builtin_function_or_method",
    "instance",
    "_Feature"
   ],
   "window_display": false
  }
 },
 "nbformat": 4,
 "nbformat_minor": 2
}
